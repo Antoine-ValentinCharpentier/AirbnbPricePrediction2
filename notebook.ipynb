{
 "cells": [
  {
   "cell_type": "markdown",
   "metadata": {},
   "source": [
    "# AirbnbPricePrediction\n",
    "\n",
    "## Table of Contents\n",
    "1. Project Preparation\n",
    "   - 1.1 Defining the problem and project goals.\n",
    "   - 1.2 Hypothesis\n",
    "\n",
    "2. Data Cleaning\n",
    "   - 2.1 Imports\n",
    "      - 2.1.1 Import libraries\n",
    "      - 2.1.2 Import dataset\n",
    "   - 2.2 Variable Identification\n",
    "   - 2.3 Remove duplicates\n",
    "   - 2.4 Remove values errors\n",
    "   - 2.5 Outliers Treatment\n",
    "   - 2.6 Handle Missing Values\n",
    "   - 2.7 Drop Unnecessary Columns\n",
    "\n",
    "3. Exploratory Data Analysis\n",
    "   - 3.1 Initial Exploration\n",
    "   - 3.2 Univariate Analysis\n",
    "   - 3.3 Bivariate Analysis\n",
    "      - 3.3.1 Numerical-Numerical Variable\n",
    "      - 3.3.2 Categorical-Numerical Variable\n",
    "\n",
    "4. Data Preprocessing\n",
    "   - 4.1 Transformation of Distributions\n",
    "   - 4.2 Feature Engineering\n",
    "      - 4.2.1 Creating New Features\n",
    "      - 4.2.2 Feature Scaling\n",
    "      - 4.2.3 Encoding Categorical Variables\n",
    "         - 4.2.3.1 Label Encoding\n",
    "         - 4.2.3.2 One Hot Encoding\n",
    "   - 4.3 Data Splitting (Train-Test-Validation)\n",
    "\n",
    "5. The model\n",
    "   - 5.1 Model Building\n",
    "   - 5.2 Model Training\n",
    "   - 5.3 Model Evaluation\n",
    "      - 5.3.1 K-Fold Cross Validation\n",
    "      - 5.3.2 Hyperparameter Tunning\n",
    "      - 5.3.3 Re-train with optimal hyperparameters for predictions\n",
    "      - 5.3.4 Feature Importance\n",
    "      - 5.3.5 Learning Curves\n",
    "   - 5.4 Test the model on Test Set\n",
    "\n",
    "6. Conclusion\n",
    "   - 6.1 Results of the project / Validating hypothesis\n",
    "   - 6.2 Improvements\n",
    "   - 6.3 Conclusion on the project / course\n",
    "\n",
    "## 1. Project Preparation\n",
    "...\n",
    "### 1.1 Defining the problem and project goals\n",
    "...\n",
    "### 1.2 Hypothesis\n",
    "...\n",
    "\n",
    "\n",
    "## 2. Data Cleaning\n",
    "...\n",
    "### 2.1 Imports\n",
    "#### 2.1.1 Import libraries"
   ]
  },
  {
   "cell_type": "code",
   "execution_count": 1,
   "metadata": {},
   "outputs": [],
   "source": [
    "import pandas as pd\n",
    "import numpy as np\n",
    "\n",
    "import matplotlib.pyplot as plt"
   ]
  },
  {
   "cell_type": "code",
   "execution_count": 2,
   "metadata": {},
   "outputs": [],
   "source": [
    "pd.set_option('display.max_columns', None)"
   ]
  },
  {
   "cell_type": "markdown",
   "metadata": {},
   "source": [
    "#### 2.1.2 Import dataset"
   ]
  },
  {
   "cell_type": "code",
   "execution_count": 3,
   "metadata": {},
   "outputs": [
    {
     "name": "stderr",
     "output_type": "stream",
     "text": [
      "C:\\Users\\charp\\AppData\\Local\\Temp\\ipykernel_13692\\511297216.py:1: DtypeWarning: Columns (0,2,66) have mixed types. Specify dtype option on import or set low_memory=False.\n",
      "  dataset = pd.read_csv('./data/airbnb-listings.csv', sep=\";\")\n"
     ]
    }
   ],
   "source": [
    "dataset = pd.read_csv('./data/airbnb-listings.csv', sep=\";\")"
   ]
  },
  {
   "cell_type": "code",
   "execution_count": 4,
   "metadata": {},
   "outputs": [
    {
     "data": {
      "text/html": [
       "<div>\n",
       "<style scoped>\n",
       "    .dataframe tbody tr th:only-of-type {\n",
       "        vertical-align: middle;\n",
       "    }\n",
       "\n",
       "    .dataframe tbody tr th {\n",
       "        vertical-align: top;\n",
       "    }\n",
       "\n",
       "    .dataframe thead th {\n",
       "        text-align: right;\n",
       "    }\n",
       "</style>\n",
       "<table border=\"1\" class=\"dataframe\">\n",
       "  <thead>\n",
       "    <tr style=\"text-align: right;\">\n",
       "      <th></th>\n",
       "      <th>ID</th>\n",
       "      <th>Listing Url</th>\n",
       "      <th>Scrape ID</th>\n",
       "      <th>Last Scraped</th>\n",
       "      <th>Name</th>\n",
       "      <th>Summary</th>\n",
       "      <th>Space</th>\n",
       "      <th>Description</th>\n",
       "      <th>Experiences Offered</th>\n",
       "      <th>Neighborhood Overview</th>\n",
       "      <th>Notes</th>\n",
       "      <th>Transit</th>\n",
       "      <th>Access</th>\n",
       "      <th>Interaction</th>\n",
       "      <th>House Rules</th>\n",
       "      <th>Thumbnail Url</th>\n",
       "      <th>Medium Url</th>\n",
       "      <th>Picture Url</th>\n",
       "      <th>XL Picture Url</th>\n",
       "      <th>Host ID</th>\n",
       "      <th>Host URL</th>\n",
       "      <th>Host Name</th>\n",
       "      <th>Host Since</th>\n",
       "      <th>Host Location</th>\n",
       "      <th>Host About</th>\n",
       "      <th>Host Response Time</th>\n",
       "      <th>Host Response Rate</th>\n",
       "      <th>Host Acceptance Rate</th>\n",
       "      <th>Host Thumbnail Url</th>\n",
       "      <th>Host Picture Url</th>\n",
       "      <th>Host Neighbourhood</th>\n",
       "      <th>Host Listings Count</th>\n",
       "      <th>Host Total Listings Count</th>\n",
       "      <th>Host Verifications</th>\n",
       "      <th>Street</th>\n",
       "      <th>Neighbourhood</th>\n",
       "      <th>Neighbourhood Cleansed</th>\n",
       "      <th>Neighbourhood Group Cleansed</th>\n",
       "      <th>City</th>\n",
       "      <th>State</th>\n",
       "      <th>Zipcode</th>\n",
       "      <th>Market</th>\n",
       "      <th>Smart Location</th>\n",
       "      <th>Country Code</th>\n",
       "      <th>Country</th>\n",
       "      <th>Latitude</th>\n",
       "      <th>Longitude</th>\n",
       "      <th>Property Type</th>\n",
       "      <th>Room Type</th>\n",
       "      <th>Accommodates</th>\n",
       "      <th>Bathrooms</th>\n",
       "      <th>Bedrooms</th>\n",
       "      <th>Beds</th>\n",
       "      <th>Bed Type</th>\n",
       "      <th>Amenities</th>\n",
       "      <th>Square Feet</th>\n",
       "      <th>Price</th>\n",
       "      <th>Weekly Price</th>\n",
       "      <th>Monthly Price</th>\n",
       "      <th>Security Deposit</th>\n",
       "      <th>Cleaning Fee</th>\n",
       "      <th>Guests Included</th>\n",
       "      <th>Extra People</th>\n",
       "      <th>Minimum Nights</th>\n",
       "      <th>Maximum Nights</th>\n",
       "      <th>Calendar Updated</th>\n",
       "      <th>Has Availability</th>\n",
       "      <th>Availability 30</th>\n",
       "      <th>Availability 60</th>\n",
       "      <th>Availability 90</th>\n",
       "      <th>Availability 365</th>\n",
       "      <th>Calendar last Scraped</th>\n",
       "      <th>Number of Reviews</th>\n",
       "      <th>First Review</th>\n",
       "      <th>Last Review</th>\n",
       "      <th>Review Scores Rating</th>\n",
       "      <th>Review Scores Accuracy</th>\n",
       "      <th>Review Scores Cleanliness</th>\n",
       "      <th>Review Scores Checkin</th>\n",
       "      <th>Review Scores Communication</th>\n",
       "      <th>Review Scores Location</th>\n",
       "      <th>Review Scores Value</th>\n",
       "      <th>License</th>\n",
       "      <th>Jurisdiction Names</th>\n",
       "      <th>Cancellation Policy</th>\n",
       "      <th>Calculated host listings count</th>\n",
       "      <th>Reviews per Month</th>\n",
       "      <th>Geolocation</th>\n",
       "      <th>Features</th>\n",
       "    </tr>\n",
       "  </thead>\n",
       "  <tbody>\n",
       "    <tr>\n",
       "      <th>219301</th>\n",
       "      <td>10789818</td>\n",
       "      <td>https://www.airbnb.com/rooms/10789818</td>\n",
       "      <td>20170306202425</td>\n",
       "      <td>2017-03-07</td>\n",
       "      <td>Mid-Century Modern near downtown</td>\n",
       "      <td>A mid-century modern classic with all the mode...</td>\n",
       "      <td>A mid-century masterpiece which was newly reno...</td>\n",
       "      <td>A mid-century modern classic with all the mode...</td>\n",
       "      <td>none</td>\n",
       "      <td>A classic Austin neighborhood with all the Aus...</td>\n",
       "      <td>NaN</td>\n",
       "      <td>An easy walk to downtown. Its only about 1.5 m...</td>\n",
       "      <td>Guests will have the entire house to them selv...</td>\n",
       "      <td>I'll gladly give you tips and info on the neig...</td>\n",
       "      <td>Please be respectful of neighbors. No parties ...</td>\n",
       "      <td>https://a0.muscache.com/im/pictures/0dc2b2a7-8...</td>\n",
       "      <td>https://a0.muscache.com/im/pictures/0dc2b2a7-8...</td>\n",
       "      <td>https://public.opendatasoft.com/api/explore/v2...</td>\n",
       "      <td>https://a0.muscache.com/im/pictures/0dc2b2a7-8...</td>\n",
       "      <td>38404057</td>\n",
       "      <td>https://www.airbnb.com/users/show/38404057</td>\n",
       "      <td>Dan</td>\n",
       "      <td>2015-07-13</td>\n",
       "      <td>Austin, Texas, United States</td>\n",
       "      <td>I'm Dan and I live in the Austin, Texas, the L...</td>\n",
       "      <td>NaN</td>\n",
       "      <td>NaN</td>\n",
       "      <td>NaN</td>\n",
       "      <td>https://a0.muscache.com/im/users/38404057/prof...</td>\n",
       "      <td>https://a0.muscache.com/im/users/38404057/prof...</td>\n",
       "      <td>Travis Heights</td>\n",
       "      <td>1.0</td>\n",
       "      <td>1.0</td>\n",
       "      <td>email,phone,reviews,kba</td>\n",
       "      <td>Betty Jo Drive, Austin, TX 78704, United States</td>\n",
       "      <td>Travis Heights</td>\n",
       "      <td>78704</td>\n",
       "      <td>NaN</td>\n",
       "      <td>Austin</td>\n",
       "      <td>TX</td>\n",
       "      <td>78704</td>\n",
       "      <td>Austin</td>\n",
       "      <td>Austin, TX</td>\n",
       "      <td>US</td>\n",
       "      <td>United States</td>\n",
       "      <td>30.244527</td>\n",
       "      <td>-97.738070</td>\n",
       "      <td>House</td>\n",
       "      <td>Entire home/apt</td>\n",
       "      <td>5.0</td>\n",
       "      <td>2.0</td>\n",
       "      <td>2.0</td>\n",
       "      <td>3.0</td>\n",
       "      <td>Real Bed</td>\n",
       "      <td>TV,Cable TV,Internet,Wireless Internet,Air con...</td>\n",
       "      <td>NaN</td>\n",
       "      <td>199.0</td>\n",
       "      <td>NaN</td>\n",
       "      <td>NaN</td>\n",
       "      <td>NaN</td>\n",
       "      <td>89.0</td>\n",
       "      <td>1.0</td>\n",
       "      <td>0.0</td>\n",
       "      <td>2.0</td>\n",
       "      <td>1125.0</td>\n",
       "      <td>6 months ago</td>\n",
       "      <td>NaN</td>\n",
       "      <td>0.0</td>\n",
       "      <td>0.0</td>\n",
       "      <td>0.0</td>\n",
       "      <td>0.0</td>\n",
       "      <td>2017-03-06</td>\n",
       "      <td>6.0</td>\n",
       "      <td>2016-09-05</td>\n",
       "      <td>2016-10-10</td>\n",
       "      <td>100.0</td>\n",
       "      <td>10.0</td>\n",
       "      <td>10.0</td>\n",
       "      <td>10.0</td>\n",
       "      <td>10.0</td>\n",
       "      <td>10.0</td>\n",
       "      <td>10.0</td>\n",
       "      <td>NaN</td>\n",
       "      <td>NaN</td>\n",
       "      <td>strict</td>\n",
       "      <td>1.0</td>\n",
       "      <td>0.98</td>\n",
       "      <td>30.24452653596074, -97.73807049660911</td>\n",
       "      <td>Host Has Profile Pic,Host Identity Verified,Is...</td>\n",
       "    </tr>\n",
       "    <tr>\n",
       "      <th>151347</th>\n",
       "      <td>9342314</td>\n",
       "      <td>https://www.airbnb.com/rooms/9342314</td>\n",
       "      <td>20170404145355</td>\n",
       "      <td>2017-04-05</td>\n",
       "      <td>appart with view in the chic 16th</td>\n",
       "      <td>Annonce   How does a glass of wine on my terra...</td>\n",
       "      <td>How does a glass of wine on my terrace with a ...</td>\n",
       "      <td>Annonce   How does a glass of wine on my terra...</td>\n",
       "      <td>none</td>\n",
       "      <td>NaN</td>\n",
       "      <td>NaN</td>\n",
       "      <td>NaN</td>\n",
       "      <td>Metro Line 9, three minut walk from home, dire...</td>\n",
       "      <td>You will be able to contact me on my mobile an...</td>\n",
       "      <td>No pets, no smoking inside and courtesy with n...</td>\n",
       "      <td>https://a0.muscache.com/im/pictures/3f00d655-9...</td>\n",
       "      <td>https://a0.muscache.com/im/pictures/3f00d655-9...</td>\n",
       "      <td>https://public.opendatasoft.com/api/explore/v2...</td>\n",
       "      <td>https://a0.muscache.com/im/pictures/3f00d655-9...</td>\n",
       "      <td>48486961</td>\n",
       "      <td>https://www.airbnb.com/users/show/48486961</td>\n",
       "      <td>Sarah</td>\n",
       "      <td>2015-11-08</td>\n",
       "      <td>Paris, Île-de-France, France</td>\n",
       "      <td>Hello, i have used Airbnb several times with f...</td>\n",
       "      <td>NaN</td>\n",
       "      <td>NaN</td>\n",
       "      <td>NaN</td>\n",
       "      <td>https://a0.muscache.com/im/pictures/9d71bab9-8...</td>\n",
       "      <td>https://a0.muscache.com/im/pictures/9d71bab9-8...</td>\n",
       "      <td>Passy</td>\n",
       "      <td>1.0</td>\n",
       "      <td>1.0</td>\n",
       "      <td>email,phone</td>\n",
       "      <td>Passy, Paris, Île-de-France 75016, France</td>\n",
       "      <td>Passy</td>\n",
       "      <td>Passy</td>\n",
       "      <td>NaN</td>\n",
       "      <td>Paris</td>\n",
       "      <td>Île-de-France</td>\n",
       "      <td>75016</td>\n",
       "      <td>Paris</td>\n",
       "      <td>Paris, France</td>\n",
       "      <td>FR</td>\n",
       "      <td>France</td>\n",
       "      <td>48.854459</td>\n",
       "      <td>2.275252</td>\n",
       "      <td>Condominium</td>\n",
       "      <td>Entire home/apt</td>\n",
       "      <td>3.0</td>\n",
       "      <td>1.0</td>\n",
       "      <td>1.0</td>\n",
       "      <td>3.0</td>\n",
       "      <td>Real Bed</td>\n",
       "      <td>TV,Cable TV,Internet,Wireless Internet,Kitchen...</td>\n",
       "      <td>NaN</td>\n",
       "      <td>180.0</td>\n",
       "      <td>NaN</td>\n",
       "      <td>NaN</td>\n",
       "      <td>NaN</td>\n",
       "      <td>NaN</td>\n",
       "      <td>1.0</td>\n",
       "      <td>0.0</td>\n",
       "      <td>3.0</td>\n",
       "      <td>1125.0</td>\n",
       "      <td>17 months ago</td>\n",
       "      <td>NaN</td>\n",
       "      <td>0.0</td>\n",
       "      <td>0.0</td>\n",
       "      <td>0.0</td>\n",
       "      <td>0.0</td>\n",
       "      <td>2017-04-05</td>\n",
       "      <td>0.0</td>\n",
       "      <td>NaN</td>\n",
       "      <td>NaN</td>\n",
       "      <td>NaN</td>\n",
       "      <td>NaN</td>\n",
       "      <td>NaN</td>\n",
       "      <td>NaN</td>\n",
       "      <td>NaN</td>\n",
       "      <td>NaN</td>\n",
       "      <td>NaN</td>\n",
       "      <td>NaN</td>\n",
       "      <td>Paris</td>\n",
       "      <td>flexible</td>\n",
       "      <td>1.0</td>\n",
       "      <td>NaN</td>\n",
       "      <td>48.854459267758855, 2.2752520453734975</td>\n",
       "      <td>Host Has Profile Pic,Is Location Exact</td>\n",
       "    </tr>\n",
       "    <tr>\n",
       "      <th>105240</th>\n",
       "      <td>6023405</td>\n",
       "      <td>https://www.airbnb.com/rooms/6023405</td>\n",
       "      <td>20170218121908</td>\n",
       "      <td>2017-02-18</td>\n",
       "      <td>Large double room</td>\n",
       "      <td>Double room, suitable for 1 or 2 fully furnish...</td>\n",
       "      <td>NaN</td>\n",
       "      <td>Double room, suitable for 1 or 2 fully furnish...</td>\n",
       "      <td>none</td>\n",
       "      <td>NaN</td>\n",
       "      <td>NaN</td>\n",
       "      <td>NaN</td>\n",
       "      <td>NaN</td>\n",
       "      <td>NaN</td>\n",
       "      <td>NaN</td>\n",
       "      <td>https://a0.muscache.com/im/pictures/75010788/8...</td>\n",
       "      <td>https://a0.muscache.com/im/pictures/75010788/8...</td>\n",
       "      <td>https://public.opendatasoft.com/api/explore/v2...</td>\n",
       "      <td>https://a0.muscache.com/im/pictures/75010788/8...</td>\n",
       "      <td>16719398</td>\n",
       "      <td>https://www.airbnb.com/users/show/16719398</td>\n",
       "      <td>Caroline</td>\n",
       "      <td>2014-06-12</td>\n",
       "      <td>Dublin, Dublin, Ireland</td>\n",
       "      <td>NaN</td>\n",
       "      <td>NaN</td>\n",
       "      <td>NaN</td>\n",
       "      <td>NaN</td>\n",
       "      <td>https://a0.muscache.com/im/users/16719398/prof...</td>\n",
       "      <td>https://a0.muscache.com/im/users/16719398/prof...</td>\n",
       "      <td>Dundrum</td>\n",
       "      <td>2.0</td>\n",
       "      <td>2.0</td>\n",
       "      <td>phone</td>\n",
       "      <td>Wyckham Way, Dundrum, Dublin 16, Ireland</td>\n",
       "      <td>Dundrum</td>\n",
       "      <td>Dn Laoghaire-Rathdown</td>\n",
       "      <td>NaN</td>\n",
       "      <td>Dundrum</td>\n",
       "      <td>Dublin</td>\n",
       "      <td>16</td>\n",
       "      <td>Dublin</td>\n",
       "      <td>Dundrum, Ireland</td>\n",
       "      <td>IE</td>\n",
       "      <td>Ireland</td>\n",
       "      <td>53.284528</td>\n",
       "      <td>-6.245797</td>\n",
       "      <td>Apartment</td>\n",
       "      <td>Private room</td>\n",
       "      <td>2.0</td>\n",
       "      <td>1.0</td>\n",
       "      <td>1.0</td>\n",
       "      <td>1.0</td>\n",
       "      <td>Real Bed</td>\n",
       "      <td>NaN</td>\n",
       "      <td>NaN</td>\n",
       "      <td>60.0</td>\n",
       "      <td>NaN</td>\n",
       "      <td>NaN</td>\n",
       "      <td>NaN</td>\n",
       "      <td>NaN</td>\n",
       "      <td>1.0</td>\n",
       "      <td>0.0</td>\n",
       "      <td>1.0</td>\n",
       "      <td>1125.0</td>\n",
       "      <td>21 months ago</td>\n",
       "      <td>NaN</td>\n",
       "      <td>0.0</td>\n",
       "      <td>0.0</td>\n",
       "      <td>0.0</td>\n",
       "      <td>0.0</td>\n",
       "      <td>2017-02-18</td>\n",
       "      <td>0.0</td>\n",
       "      <td>NaN</td>\n",
       "      <td>NaN</td>\n",
       "      <td>NaN</td>\n",
       "      <td>NaN</td>\n",
       "      <td>NaN</td>\n",
       "      <td>NaN</td>\n",
       "      <td>NaN</td>\n",
       "      <td>NaN</td>\n",
       "      <td>NaN</td>\n",
       "      <td>NaN</td>\n",
       "      <td>NaN</td>\n",
       "      <td>flexible</td>\n",
       "      <td>2.0</td>\n",
       "      <td>NaN</td>\n",
       "      <td>53.28452832836768, -6.245796787185465</td>\n",
       "      <td>Host Has Profile Pic,Is Location Exact</td>\n",
       "    </tr>\n",
       "    <tr>\n",
       "      <th>40768</th>\n",
       "      <td>6989321</td>\n",
       "      <td>https://www.airbnb.com/rooms/6989321</td>\n",
       "      <td>20160808012734</td>\n",
       "      <td>2016-08-08</td>\n",
       "      <td>Duplex Studio Old Town 13' to train</td>\n",
       "      <td>Magnifique studio sur 2 etages au coeur de la ...</td>\n",
       "      <td>Exclusive Studio! Built on 2 floors with view ...</td>\n",
       "      <td>Magnifique studio sur 2 etages au coeur de la ...</td>\n",
       "      <td>none</td>\n",
       "      <td>The Old Town is the best neighborhood of Genev...</td>\n",
       "      <td>When going on the terrace, put something to bl...</td>\n",
       "      <td>Bus 3, 5, 8, 9, 36 Tram 12, 14, 18</td>\n",
       "      <td>Private terrace, and the whole apartment is fo...</td>\n",
       "      <td>I live 10min away, available 24/7</td>\n",
       "      <td>Le Passage de Monetier is a historic passage i...</td>\n",
       "      <td>https://a2.muscache.com/im/pictures/108200479/...</td>\n",
       "      <td>https://a2.muscache.com/im/pictures/108200479/...</td>\n",
       "      <td>https://public.opendatasoft.com/api/explore/v2...</td>\n",
       "      <td>https://a2.muscache.com/im/pictures/108200479/...</td>\n",
       "      <td>17248473</td>\n",
       "      <td>https://www.airbnb.com/users/show/17248473</td>\n",
       "      <td>Domino</td>\n",
       "      <td>2014-06-25</td>\n",
       "      <td>Geneva, Geneva, Switzerland</td>\n",
       "      <td>Hi, we are here to manage your property the mo...</td>\n",
       "      <td>within an hour</td>\n",
       "      <td>100.0</td>\n",
       "      <td>92%</td>\n",
       "      <td>https://a2.muscache.com/im/pictures/b0616e1d-2...</td>\n",
       "      <td>https://a2.muscache.com/im/pictures/b0616e1d-2...</td>\n",
       "      <td>NaN</td>\n",
       "      <td>15.0</td>\n",
       "      <td>15.0</td>\n",
       "      <td>email,phone,google,reviews,jumio</td>\n",
       "      <td>Rue de l'Evêché, Genève, Genève 1204, Switzerland</td>\n",
       "      <td>NaN</td>\n",
       "      <td>Commune de Genève</td>\n",
       "      <td>NaN</td>\n",
       "      <td>Genève</td>\n",
       "      <td>Genève</td>\n",
       "      <td>1204</td>\n",
       "      <td>Geneva</td>\n",
       "      <td>Genève, Switzerland</td>\n",
       "      <td>CH</td>\n",
       "      <td>Switzerland</td>\n",
       "      <td>46.201237</td>\n",
       "      <td>6.148995</td>\n",
       "      <td>Apartment</td>\n",
       "      <td>Entire home/apt</td>\n",
       "      <td>2.0</td>\n",
       "      <td>1.0</td>\n",
       "      <td>1.0</td>\n",
       "      <td>1.0</td>\n",
       "      <td>Real Bed</td>\n",
       "      <td>Internet,Wireless Internet,Kitchen,Smoking All...</td>\n",
       "      <td>NaN</td>\n",
       "      <td>130.0</td>\n",
       "      <td>NaN</td>\n",
       "      <td>NaN</td>\n",
       "      <td>NaN</td>\n",
       "      <td>55.0</td>\n",
       "      <td>1.0</td>\n",
       "      <td>0.0</td>\n",
       "      <td>1.0</td>\n",
       "      <td>1125.0</td>\n",
       "      <td>yesterday</td>\n",
       "      <td>NaN</td>\n",
       "      <td>4.0</td>\n",
       "      <td>4.0</td>\n",
       "      <td>4.0</td>\n",
       "      <td>187.0</td>\n",
       "      <td>2016-08-08</td>\n",
       "      <td>8.0</td>\n",
       "      <td>2015-07-22</td>\n",
       "      <td>2015-10-29</td>\n",
       "      <td>93.0</td>\n",
       "      <td>9.0</td>\n",
       "      <td>10.0</td>\n",
       "      <td>10.0</td>\n",
       "      <td>10.0</td>\n",
       "      <td>10.0</td>\n",
       "      <td>9.0</td>\n",
       "      <td>NaN</td>\n",
       "      <td>NaN</td>\n",
       "      <td>moderate</td>\n",
       "      <td>12.0</td>\n",
       "      <td>0.63</td>\n",
       "      <td>46.20123700209119, 6.1489946325430695</td>\n",
       "      <td>Host Has Profile Pic,Host Identity Verified,Is...</td>\n",
       "    </tr>\n",
       "    <tr>\n",
       "      <th>291686</th>\n",
       "      <td>16450855</td>\n",
       "      <td>https://www.airbnb.com/rooms/16450855</td>\n",
       "      <td>20170218121908</td>\n",
       "      <td>2017-02-18</td>\n",
       "      <td>Double/Triple Room, Templebar.</td>\n",
       "      <td>****This is our second room, our other room ha...</td>\n",
       "      <td>NaN</td>\n",
       "      <td>****This is our second room, our other room ha...</td>\n",
       "      <td>none</td>\n",
       "      <td>NaN</td>\n",
       "      <td>NaN</td>\n",
       "      <td>NaN</td>\n",
       "      <td>Dinner is served inclusive of price at 7 o clo...</td>\n",
       "      <td>NaN</td>\n",
       "      <td>NaN</td>\n",
       "      <td>https://a0.muscache.com/im/pictures/79a8ffdd-b...</td>\n",
       "      <td>https://a0.muscache.com/im/pictures/79a8ffdd-b...</td>\n",
       "      <td>https://public.opendatasoft.com/api/explore/v2...</td>\n",
       "      <td>https://a0.muscache.com/im/pictures/79a8ffdd-b...</td>\n",
       "      <td>91187481</td>\n",
       "      <td>https://www.airbnb.com/users/show/91187481</td>\n",
       "      <td>Francis</td>\n",
       "      <td>2016-08-21</td>\n",
       "      <td>Dublin, Dublin, Ireland</td>\n",
       "      <td>NaN</td>\n",
       "      <td>within an hour</td>\n",
       "      <td>88.0</td>\n",
       "      <td>NaN</td>\n",
       "      <td>https://a0.muscache.com/im/pictures/26fcc48d-7...</td>\n",
       "      <td>https://a0.muscache.com/im/pictures/26fcc48d-7...</td>\n",
       "      <td>NaN</td>\n",
       "      <td>2.0</td>\n",
       "      <td>2.0</td>\n",
       "      <td>phone,facebook,reviews</td>\n",
       "      <td>Fownes Street Upper, Dublin, County Dublin, Ir...</td>\n",
       "      <td>NaN</td>\n",
       "      <td>Dublin City</td>\n",
       "      <td>NaN</td>\n",
       "      <td>Dublin</td>\n",
       "      <td>County Dublin</td>\n",
       "      <td>NaN</td>\n",
       "      <td>Dublin</td>\n",
       "      <td>Dublin, Ireland</td>\n",
       "      <td>IE</td>\n",
       "      <td>Ireland</td>\n",
       "      <td>53.345534</td>\n",
       "      <td>-6.263699</td>\n",
       "      <td>Townhouse</td>\n",
       "      <td>Private room</td>\n",
       "      <td>3.0</td>\n",
       "      <td>2.0</td>\n",
       "      <td>1.0</td>\n",
       "      <td>3.0</td>\n",
       "      <td>Real Bed</td>\n",
       "      <td>TV,Wireless Internet,Kitchen,Smoking allowed,B...</td>\n",
       "      <td>NaN</td>\n",
       "      <td>60.0</td>\n",
       "      <td>NaN</td>\n",
       "      <td>NaN</td>\n",
       "      <td>NaN</td>\n",
       "      <td>NaN</td>\n",
       "      <td>1.0</td>\n",
       "      <td>0.0</td>\n",
       "      <td>3.0</td>\n",
       "      <td>1125.0</td>\n",
       "      <td>1 week ago</td>\n",
       "      <td>NaN</td>\n",
       "      <td>4.0</td>\n",
       "      <td>18.0</td>\n",
       "      <td>42.0</td>\n",
       "      <td>42.0</td>\n",
       "      <td>2017-02-18</td>\n",
       "      <td>2.0</td>\n",
       "      <td>2017-01-09</td>\n",
       "      <td>2017-01-15</td>\n",
       "      <td>90.0</td>\n",
       "      <td>10.0</td>\n",
       "      <td>10.0</td>\n",
       "      <td>10.0</td>\n",
       "      <td>10.0</td>\n",
       "      <td>10.0</td>\n",
       "      <td>10.0</td>\n",
       "      <td>NaN</td>\n",
       "      <td>NaN</td>\n",
       "      <td>flexible</td>\n",
       "      <td>2.0</td>\n",
       "      <td>1.46</td>\n",
       "      <td>53.34553436020357, -6.26369873452508</td>\n",
       "      <td>Host Has Profile Pic,Instant Bookable</td>\n",
       "    </tr>\n",
       "  </tbody>\n",
       "</table>\n",
       "</div>"
      ],
      "text/plain": [
       "              ID                            Listing Url       Scrape ID  \\\n",
       "219301  10789818  https://www.airbnb.com/rooms/10789818  20170306202425   \n",
       "151347   9342314   https://www.airbnb.com/rooms/9342314  20170404145355   \n",
       "105240   6023405   https://www.airbnb.com/rooms/6023405  20170218121908   \n",
       "40768    6989321   https://www.airbnb.com/rooms/6989321  20160808012734   \n",
       "291686  16450855  https://www.airbnb.com/rooms/16450855  20170218121908   \n",
       "\n",
       "       Last Scraped                                 Name  \\\n",
       "219301   2017-03-07     Mid-Century Modern near downtown   \n",
       "151347   2017-04-05    appart with view in the chic 16th   \n",
       "105240   2017-02-18                    Large double room   \n",
       "40768    2016-08-08  Duplex Studio Old Town 13' to train   \n",
       "291686   2017-02-18       Double/Triple Room, Templebar.   \n",
       "\n",
       "                                                  Summary  \\\n",
       "219301  A mid-century modern classic with all the mode...   \n",
       "151347  Annonce   How does a glass of wine on my terra...   \n",
       "105240  Double room, suitable for 1 or 2 fully furnish...   \n",
       "40768   Magnifique studio sur 2 etages au coeur de la ...   \n",
       "291686  ****This is our second room, our other room ha...   \n",
       "\n",
       "                                                    Space  \\\n",
       "219301  A mid-century masterpiece which was newly reno...   \n",
       "151347  How does a glass of wine on my terrace with a ...   \n",
       "105240                                                NaN   \n",
       "40768   Exclusive Studio! Built on 2 floors with view ...   \n",
       "291686                                                NaN   \n",
       "\n",
       "                                              Description Experiences Offered  \\\n",
       "219301  A mid-century modern classic with all the mode...                none   \n",
       "151347  Annonce   How does a glass of wine on my terra...                none   \n",
       "105240  Double room, suitable for 1 or 2 fully furnish...                none   \n",
       "40768   Magnifique studio sur 2 etages au coeur de la ...                none   \n",
       "291686  ****This is our second room, our other room ha...                none   \n",
       "\n",
       "                                    Neighborhood Overview  \\\n",
       "219301  A classic Austin neighborhood with all the Aus...   \n",
       "151347                                                NaN   \n",
       "105240                                                NaN   \n",
       "40768   The Old Town is the best neighborhood of Genev...   \n",
       "291686                                                NaN   \n",
       "\n",
       "                                                    Notes  \\\n",
       "219301                                                NaN   \n",
       "151347                                                NaN   \n",
       "105240                                                NaN   \n",
       "40768   When going on the terrace, put something to bl...   \n",
       "291686                                                NaN   \n",
       "\n",
       "                                                  Transit  \\\n",
       "219301  An easy walk to downtown. Its only about 1.5 m...   \n",
       "151347                                                NaN   \n",
       "105240                                                NaN   \n",
       "40768                  Bus 3, 5, 8, 9, 36 Tram 12, 14, 18   \n",
       "291686                                                NaN   \n",
       "\n",
       "                                                   Access  \\\n",
       "219301  Guests will have the entire house to them selv...   \n",
       "151347  Metro Line 9, three minut walk from home, dire...   \n",
       "105240                                                NaN   \n",
       "40768   Private terrace, and the whole apartment is fo...   \n",
       "291686  Dinner is served inclusive of price at 7 o clo...   \n",
       "\n",
       "                                              Interaction  \\\n",
       "219301  I'll gladly give you tips and info on the neig...   \n",
       "151347  You will be able to contact me on my mobile an...   \n",
       "105240                                                NaN   \n",
       "40768                   I live 10min away, available 24/7   \n",
       "291686                                                NaN   \n",
       "\n",
       "                                              House Rules  \\\n",
       "219301  Please be respectful of neighbors. No parties ...   \n",
       "151347  No pets, no smoking inside and courtesy with n...   \n",
       "105240                                                NaN   \n",
       "40768   Le Passage de Monetier is a historic passage i...   \n",
       "291686                                                NaN   \n",
       "\n",
       "                                            Thumbnail Url  \\\n",
       "219301  https://a0.muscache.com/im/pictures/0dc2b2a7-8...   \n",
       "151347  https://a0.muscache.com/im/pictures/3f00d655-9...   \n",
       "105240  https://a0.muscache.com/im/pictures/75010788/8...   \n",
       "40768   https://a2.muscache.com/im/pictures/108200479/...   \n",
       "291686  https://a0.muscache.com/im/pictures/79a8ffdd-b...   \n",
       "\n",
       "                                               Medium Url  \\\n",
       "219301  https://a0.muscache.com/im/pictures/0dc2b2a7-8...   \n",
       "151347  https://a0.muscache.com/im/pictures/3f00d655-9...   \n",
       "105240  https://a0.muscache.com/im/pictures/75010788/8...   \n",
       "40768   https://a2.muscache.com/im/pictures/108200479/...   \n",
       "291686  https://a0.muscache.com/im/pictures/79a8ffdd-b...   \n",
       "\n",
       "                                              Picture Url  \\\n",
       "219301  https://public.opendatasoft.com/api/explore/v2...   \n",
       "151347  https://public.opendatasoft.com/api/explore/v2...   \n",
       "105240  https://public.opendatasoft.com/api/explore/v2...   \n",
       "40768   https://public.opendatasoft.com/api/explore/v2...   \n",
       "291686  https://public.opendatasoft.com/api/explore/v2...   \n",
       "\n",
       "                                           XL Picture Url   Host ID  \\\n",
       "219301  https://a0.muscache.com/im/pictures/0dc2b2a7-8...  38404057   \n",
       "151347  https://a0.muscache.com/im/pictures/3f00d655-9...  48486961   \n",
       "105240  https://a0.muscache.com/im/pictures/75010788/8...  16719398   \n",
       "40768   https://a2.muscache.com/im/pictures/108200479/...  17248473   \n",
       "291686  https://a0.muscache.com/im/pictures/79a8ffdd-b...  91187481   \n",
       "\n",
       "                                          Host URL Host Name  Host Since  \\\n",
       "219301  https://www.airbnb.com/users/show/38404057       Dan  2015-07-13   \n",
       "151347  https://www.airbnb.com/users/show/48486961     Sarah  2015-11-08   \n",
       "105240  https://www.airbnb.com/users/show/16719398  Caroline  2014-06-12   \n",
       "40768   https://www.airbnb.com/users/show/17248473    Domino  2014-06-25   \n",
       "291686  https://www.airbnb.com/users/show/91187481   Francis  2016-08-21   \n",
       "\n",
       "                       Host Location  \\\n",
       "219301  Austin, Texas, United States   \n",
       "151347  Paris, Île-de-France, France   \n",
       "105240       Dublin, Dublin, Ireland   \n",
       "40768    Geneva, Geneva, Switzerland   \n",
       "291686       Dublin, Dublin, Ireland   \n",
       "\n",
       "                                               Host About Host Response Time  \\\n",
       "219301  I'm Dan and I live in the Austin, Texas, the L...                NaN   \n",
       "151347  Hello, i have used Airbnb several times with f...                NaN   \n",
       "105240                                                NaN                NaN   \n",
       "40768   Hi, we are here to manage your property the mo...     within an hour   \n",
       "291686                                                NaN     within an hour   \n",
       "\n",
       "        Host Response Rate Host Acceptance Rate  \\\n",
       "219301                 NaN                  NaN   \n",
       "151347                 NaN                  NaN   \n",
       "105240                 NaN                  NaN   \n",
       "40768                100.0                  92%   \n",
       "291686                88.0                  NaN   \n",
       "\n",
       "                                       Host Thumbnail Url  \\\n",
       "219301  https://a0.muscache.com/im/users/38404057/prof...   \n",
       "151347  https://a0.muscache.com/im/pictures/9d71bab9-8...   \n",
       "105240  https://a0.muscache.com/im/users/16719398/prof...   \n",
       "40768   https://a2.muscache.com/im/pictures/b0616e1d-2...   \n",
       "291686  https://a0.muscache.com/im/pictures/26fcc48d-7...   \n",
       "\n",
       "                                         Host Picture Url Host Neighbourhood  \\\n",
       "219301  https://a0.muscache.com/im/users/38404057/prof...     Travis Heights   \n",
       "151347  https://a0.muscache.com/im/pictures/9d71bab9-8...              Passy   \n",
       "105240  https://a0.muscache.com/im/users/16719398/prof...            Dundrum   \n",
       "40768   https://a2.muscache.com/im/pictures/b0616e1d-2...                NaN   \n",
       "291686  https://a0.muscache.com/im/pictures/26fcc48d-7...                NaN   \n",
       "\n",
       "        Host Listings Count  Host Total Listings Count  \\\n",
       "219301                  1.0                        1.0   \n",
       "151347                  1.0                        1.0   \n",
       "105240                  2.0                        2.0   \n",
       "40768                  15.0                       15.0   \n",
       "291686                  2.0                        2.0   \n",
       "\n",
       "                      Host Verifications  \\\n",
       "219301           email,phone,reviews,kba   \n",
       "151347                       email,phone   \n",
       "105240                             phone   \n",
       "40768   email,phone,google,reviews,jumio   \n",
       "291686            phone,facebook,reviews   \n",
       "\n",
       "                                                   Street   Neighbourhood  \\\n",
       "219301    Betty Jo Drive, Austin, TX 78704, United States  Travis Heights   \n",
       "151347          Passy, Paris, Île-de-France 75016, France           Passy   \n",
       "105240           Wyckham Way, Dundrum, Dublin 16, Ireland         Dundrum   \n",
       "40768   Rue de l'Evêché, Genève, Genève 1204, Switzerland             NaN   \n",
       "291686  Fownes Street Upper, Dublin, County Dublin, Ir...             NaN   \n",
       "\n",
       "       Neighbourhood Cleansed Neighbourhood Group Cleansed     City  \\\n",
       "219301                  78704                          NaN   Austin   \n",
       "151347                  Passy                          NaN    Paris   \n",
       "105240  Dn Laoghaire-Rathdown                          NaN  Dundrum   \n",
       "40768       Commune de Genève                          NaN   Genève   \n",
       "291686            Dublin City                          NaN   Dublin   \n",
       "\n",
       "                State Zipcode  Market       Smart Location Country Code  \\\n",
       "219301             TX   78704  Austin           Austin, TX           US   \n",
       "151347  Île-de-France   75016   Paris        Paris, France           FR   \n",
       "105240         Dublin      16  Dublin     Dundrum, Ireland           IE   \n",
       "40768          Genève    1204  Geneva  Genève, Switzerland           CH   \n",
       "291686  County Dublin     NaN  Dublin      Dublin, Ireland           IE   \n",
       "\n",
       "              Country   Latitude  Longitude Property Type        Room Type  \\\n",
       "219301  United States  30.244527 -97.738070         House  Entire home/apt   \n",
       "151347         France  48.854459   2.275252   Condominium  Entire home/apt   \n",
       "105240        Ireland  53.284528  -6.245797     Apartment     Private room   \n",
       "40768     Switzerland  46.201237   6.148995     Apartment  Entire home/apt   \n",
       "291686        Ireland  53.345534  -6.263699     Townhouse     Private room   \n",
       "\n",
       "        Accommodates  Bathrooms  Bedrooms  Beds  Bed Type  \\\n",
       "219301           5.0        2.0       2.0   3.0  Real Bed   \n",
       "151347           3.0        1.0       1.0   3.0  Real Bed   \n",
       "105240           2.0        1.0       1.0   1.0  Real Bed   \n",
       "40768            2.0        1.0       1.0   1.0  Real Bed   \n",
       "291686           3.0        2.0       1.0   3.0  Real Bed   \n",
       "\n",
       "                                                Amenities  Square Feet  Price  \\\n",
       "219301  TV,Cable TV,Internet,Wireless Internet,Air con...          NaN  199.0   \n",
       "151347  TV,Cable TV,Internet,Wireless Internet,Kitchen...          NaN  180.0   \n",
       "105240                                                NaN          NaN   60.0   \n",
       "40768   Internet,Wireless Internet,Kitchen,Smoking All...          NaN  130.0   \n",
       "291686  TV,Wireless Internet,Kitchen,Smoking allowed,B...          NaN   60.0   \n",
       "\n",
       "        Weekly Price  Monthly Price  Security Deposit  Cleaning Fee  \\\n",
       "219301           NaN            NaN               NaN          89.0   \n",
       "151347           NaN            NaN               NaN           NaN   \n",
       "105240           NaN            NaN               NaN           NaN   \n",
       "40768            NaN            NaN               NaN          55.0   \n",
       "291686           NaN            NaN               NaN           NaN   \n",
       "\n",
       "        Guests Included  Extra People  Minimum Nights  Maximum Nights  \\\n",
       "219301              1.0           0.0             2.0          1125.0   \n",
       "151347              1.0           0.0             3.0          1125.0   \n",
       "105240              1.0           0.0             1.0          1125.0   \n",
       "40768               1.0           0.0             1.0          1125.0   \n",
       "291686              1.0           0.0             3.0          1125.0   \n",
       "\n",
       "       Calendar Updated Has Availability  Availability 30  Availability 60  \\\n",
       "219301     6 months ago              NaN              0.0              0.0   \n",
       "151347    17 months ago              NaN              0.0              0.0   \n",
       "105240    21 months ago              NaN              0.0              0.0   \n",
       "40768         yesterday              NaN              4.0              4.0   \n",
       "291686       1 week ago              NaN              4.0             18.0   \n",
       "\n",
       "        Availability 90  Availability 365 Calendar last Scraped  \\\n",
       "219301              0.0               0.0            2017-03-06   \n",
       "151347              0.0               0.0            2017-04-05   \n",
       "105240              0.0               0.0            2017-02-18   \n",
       "40768               4.0             187.0            2016-08-08   \n",
       "291686             42.0              42.0            2017-02-18   \n",
       "\n",
       "        Number of Reviews First Review Last Review  Review Scores Rating  \\\n",
       "219301                6.0   2016-09-05  2016-10-10                 100.0   \n",
       "151347                0.0          NaN         NaN                   NaN   \n",
       "105240                0.0          NaN         NaN                   NaN   \n",
       "40768                 8.0   2015-07-22  2015-10-29                  93.0   \n",
       "291686                2.0   2017-01-09  2017-01-15                  90.0   \n",
       "\n",
       "        Review Scores Accuracy  Review Scores Cleanliness  \\\n",
       "219301                    10.0                       10.0   \n",
       "151347                     NaN                        NaN   \n",
       "105240                     NaN                        NaN   \n",
       "40768                      9.0                       10.0   \n",
       "291686                    10.0                       10.0   \n",
       "\n",
       "        Review Scores Checkin  Review Scores Communication  \\\n",
       "219301                   10.0                         10.0   \n",
       "151347                    NaN                          NaN   \n",
       "105240                    NaN                          NaN   \n",
       "40768                    10.0                         10.0   \n",
       "291686                   10.0                         10.0   \n",
       "\n",
       "        Review Scores Location  Review Scores Value License  \\\n",
       "219301                    10.0                 10.0     NaN   \n",
       "151347                     NaN                  NaN     NaN   \n",
       "105240                     NaN                  NaN     NaN   \n",
       "40768                     10.0                  9.0     NaN   \n",
       "291686                    10.0                 10.0     NaN   \n",
       "\n",
       "       Jurisdiction Names Cancellation Policy  Calculated host listings count  \\\n",
       "219301                NaN              strict                             1.0   \n",
       "151347              Paris            flexible                             1.0   \n",
       "105240                NaN            flexible                             2.0   \n",
       "40768                 NaN            moderate                            12.0   \n",
       "291686                NaN            flexible                             2.0   \n",
       "\n",
       "        Reviews per Month                             Geolocation  \\\n",
       "219301               0.98   30.24452653596074, -97.73807049660911   \n",
       "151347                NaN  48.854459267758855, 2.2752520453734975   \n",
       "105240                NaN   53.28452832836768, -6.245796787185465   \n",
       "40768                0.63   46.20123700209119, 6.1489946325430695   \n",
       "291686               1.46    53.34553436020357, -6.26369873452508   \n",
       "\n",
       "                                                 Features  \n",
       "219301  Host Has Profile Pic,Host Identity Verified,Is...  \n",
       "151347             Host Has Profile Pic,Is Location Exact  \n",
       "105240             Host Has Profile Pic,Is Location Exact  \n",
       "40768   Host Has Profile Pic,Host Identity Verified,Is...  \n",
       "291686              Host Has Profile Pic,Instant Bookable  "
      ]
     },
     "execution_count": 4,
     "metadata": {},
     "output_type": "execute_result"
    }
   ],
   "source": [
    "dataset.sample(5)"
   ]
  },
  {
   "cell_type": "markdown",
   "metadata": {},
   "source": [
    "### 2.2 Variable Identification"
   ]
  },
  {
   "cell_type": "markdown",
   "metadata": {},
   "source": [
    "Let's have a quick look in our data. \n",
    "\n",
    "But what are our variables ?"
   ]
  },
  {
   "cell_type": "code",
   "execution_count": 5,
   "metadata": {},
   "outputs": [
    {
     "name": "stdout",
     "output_type": "stream",
     "text": [
      "Index(['ID', 'Listing Url', 'Scrape ID', 'Last Scraped', 'Name', 'Summary',\n",
      "       'Space', 'Description', 'Experiences Offered', 'Neighborhood Overview',\n",
      "       'Notes', 'Transit', 'Access', 'Interaction', 'House Rules',\n",
      "       'Thumbnail Url', 'Medium Url', 'Picture Url', 'XL Picture Url',\n",
      "       'Host ID', 'Host URL', 'Host Name', 'Host Since', 'Host Location',\n",
      "       'Host About', 'Host Response Time', 'Host Response Rate',\n",
      "       'Host Acceptance Rate', 'Host Thumbnail Url', 'Host Picture Url',\n",
      "       'Host Neighbourhood', 'Host Listings Count',\n",
      "       'Host Total Listings Count', 'Host Verifications', 'Street',\n",
      "       'Neighbourhood', 'Neighbourhood Cleansed',\n",
      "       'Neighbourhood Group Cleansed', 'City', 'State', 'Zipcode', 'Market',\n",
      "       'Smart Location', 'Country Code', 'Country', 'Latitude', 'Longitude',\n",
      "       'Property Type', 'Room Type', 'Accommodates', 'Bathrooms', 'Bedrooms',\n",
      "       'Beds', 'Bed Type', 'Amenities', 'Square Feet', 'Price', 'Weekly Price',\n",
      "       'Monthly Price', 'Security Deposit', 'Cleaning Fee', 'Guests Included',\n",
      "       'Extra People', 'Minimum Nights', 'Maximum Nights', 'Calendar Updated',\n",
      "       'Has Availability', 'Availability 30', 'Availability 60',\n",
      "       'Availability 90', 'Availability 365', 'Calendar last Scraped',\n",
      "       'Number of Reviews', 'First Review', 'Last Review',\n",
      "       'Review Scores Rating', 'Review Scores Accuracy',\n",
      "       'Review Scores Cleanliness', 'Review Scores Checkin',\n",
      "       'Review Scores Communication', 'Review Scores Location',\n",
      "       'Review Scores Value', 'License', 'Jurisdiction Names',\n",
      "       'Cancellation Policy', 'Calculated host listings count',\n",
      "       'Reviews per Month', 'Geolocation', 'Features'],\n",
      "      dtype='object')\n"
     ]
    }
   ],
   "source": [
    "print(dataset.columns)"
   ]
  },
  {
   "cell_type": "code",
   "execution_count": 6,
   "metadata": {},
   "outputs": [
    {
     "name": "stdout",
     "output_type": "stream",
     "text": [
      "89\n"
     ]
    }
   ],
   "source": [
    "print(len(dataset.columns))"
   ]
  },
  {
   "cell_type": "markdown",
   "metadata": {},
   "source": [
    "In this list, we can see the ID of the listing, we can use it as an index for our dataframe."
   ]
  },
  {
   "cell_type": "code",
   "execution_count": 7,
   "metadata": {},
   "outputs": [],
   "source": [
    "dataset.set_index('ID', inplace=True)"
   ]
  },
  {
   "cell_type": "markdown",
   "metadata": {},
   "source": [
    "We have a lot of feature, but are all these data useful for predicting our dependent variables?\n",
    "\n",
    "Certainly, the answer is obviously no. Which data is not useful to us and will therefore be removed later?\n",
    "- Scraping data, which provides no relevant information about the accommodation.\n",
    "- Various fields with URLs, which also do not contribute to our analysis.\n",
    "- Here, we will not be performing NLP, so all attributes containing long text (such as description) will be removed as well\n",
    "- Features irrelevant to our goal\n",
    "- Redondant informations"
   ]
  },
  {
   "cell_type": "markdown",
   "metadata": {},
   "source": [
    "We begin by removing features related to web scraping that are not directly associated with the dwelling. Scraping-related data may include information that does not significantly contribute to our analysis of the dwelling, and therefore, their presence could add noise rather than clarity to our dataset."
   ]
  },
  {
   "cell_type": "code",
   "execution_count": 8,
   "metadata": {},
   "outputs": [],
   "source": [
    "dataset.drop(['Scrape ID', 'Last Scraped', 'Calendar last Scraped'], axis=1, inplace=True)"
   ]
  },
  {
   "cell_type": "markdown",
   "metadata": {},
   "source": [
    "Next, let's remove features that are in the form of URLs, whether for images or links to other web pages."
   ]
  },
  {
   "cell_type": "code",
   "execution_count": 9,
   "metadata": {},
   "outputs": [],
   "source": [
    "dataset.drop(['Listing Url', 'Thumbnail Url', 'Medium Url', 'Picture Url', 'XL Picture Url', 'Host URL', 'Host Thumbnail Url', 'Host Picture Url'], axis=1, inplace=True)"
   ]
  },
  {
   "cell_type": "markdown",
   "metadata": {},
   "source": [
    "The decision to remove the following attributes was made to simplify our dataset. These attributes contain long and detailed textual information for which more advanced processing, such as Natural Language Processing (NLP), would be necessary.\n",
    "\n",
    "If our model does not perform optimally, it might be possible to leverage these attributes to add additional features to our dataset. However, since the messages do not follow a predefined structure, extracting specific information for one property may be feasible, but it does not guarantee finding the same information in the same field for another property. So, the data retrieved from these fields could lead to the creation of attributes with a significant amount of missing values.\n",
    "\n",
    "// TODO: Use 'House Rules' to extract information about smoking policy."
   ]
  },
  {
   "cell_type": "code",
   "execution_count": 10,
   "metadata": {},
   "outputs": [],
   "source": [
    "dataset.drop(['Name', 'Summary', 'Space', 'Description', 'Neighborhood Overview', 'Notes', 'Transit', 'Access', 'Interaction', 'House Rules'], axis=1, inplace=True)"
   ]
  },
  {
   "cell_type": "markdown",
   "metadata": {},
   "source": [
    "Then, I decided to remove attributes that I consider irrelevant to address our problem. These attributes are mainly categorical, and preserving them would have required specific encodings, resulting in the creation of a significant number of features and substantially increasing the dimensionality of our dataset, without providing meaningful information to predict our price values. Indeed, almost all these attributes have unique values.\n",
    "\n",
    "It's important to note that the ``Features`` attribute corresponds to a consolidation of several attributes related to the host that I have chosen to retain. Consequently, this attribute has become unnecessary."
   ]
  },
  {
   "cell_type": "code",
   "execution_count": 11,
   "metadata": {},
   "outputs": [],
   "source": [
    "dataset.drop(['Host ID', 'Host Name', 'Host Location', 'Host About', 'Host Neighbourhood', 'Neighbourhood', 'Neighbourhood Cleansed', 'Neighbourhood Group Cleansed', 'First Review', 'Last Review', 'License', 'Jurisdiction Names', 'Features'], axis=1, inplace=True)"
   ]
  },
  {
   "cell_type": "markdown",
   "metadata": {},
   "source": [
    "I also decided to remove all information regarding the location of the dwelling, except for ``longitude`` and ``latitude``. Using these two coordinates, it is possible to retrieve all the information that I am going to drop just below, such as the country, etc.\n",
    "\n",
    "If I had kept this information, it would have created redundancy in the data. Because, we can find all the informations drop with only these two values. Additionally, it would have been necessary to encode this information using an One Hot Encoder, significantly increasing the dimensionality of our dataset. It is noteworthy that the ``Geolocation`` attribute is actually a combination of the ``Latitude`` and ``Longitude`` attributes."
   ]
  },
  {
   "cell_type": "code",
   "execution_count": 12,
   "metadata": {},
   "outputs": [],
   "source": [
    "dataset.drop(['Street', 'City', 'State', 'Zipcode', 'Market', 'Smart Location', 'Country Code', 'Country', 'Geolocation'], axis= 1, inplace=True)"
   ]
  },
  {
   "cell_type": "markdown",
   "metadata": {},
   "source": [
    "It finally leaves us with the following attributes:"
   ]
  },
  {
   "cell_type": "code",
   "execution_count": 13,
   "metadata": {},
   "outputs": [
    {
     "name": "stdout",
     "output_type": "stream",
     "text": [
      "Index(['Experiences Offered', 'Host Since', 'Host Response Time',\n",
      "       'Host Response Rate', 'Host Acceptance Rate', 'Host Listings Count',\n",
      "       'Host Total Listings Count', 'Host Verifications', 'Latitude',\n",
      "       'Longitude', 'Property Type', 'Room Type', 'Accommodates', 'Bathrooms',\n",
      "       'Bedrooms', 'Beds', 'Bed Type', 'Amenities', 'Square Feet', 'Price',\n",
      "       'Weekly Price', 'Monthly Price', 'Security Deposit', 'Cleaning Fee',\n",
      "       'Guests Included', 'Extra People', 'Minimum Nights', 'Maximum Nights',\n",
      "       'Calendar Updated', 'Has Availability', 'Availability 30',\n",
      "       'Availability 60', 'Availability 90', 'Availability 365',\n",
      "       'Number of Reviews', 'Review Scores Rating', 'Review Scores Accuracy',\n",
      "       'Review Scores Cleanliness', 'Review Scores Checkin',\n",
      "       'Review Scores Communication', 'Review Scores Location',\n",
      "       'Review Scores Value', 'Cancellation Policy',\n",
      "       'Calculated host listings count', 'Reviews per Month'],\n",
      "      dtype='object')\n"
     ]
    }
   ],
   "source": [
    "print(dataset.columns)"
   ]
  },
  {
   "cell_type": "markdown",
   "metadata": {},
   "source": [
    "We went from 89 features to 45."
   ]
  },
  {
   "cell_type": "code",
   "execution_count": 14,
   "metadata": {},
   "outputs": [
    {
     "data": {
      "text/plain": [
       "45"
      ]
     },
     "execution_count": 14,
     "metadata": {},
     "output_type": "execute_result"
    }
   ],
   "source": [
    "len(dataset.columns)"
   ]
  },
  {
   "cell_type": "markdown",
   "metadata": {},
   "source": [
    "Now that we've completed an initial quick cleaning, we can start by identifying which variables are dependent and independent among all the variables available.\n",
    "\n",
    "To address our problem, we aim to predict variables (dependant variables) :\n",
    "- ``Price`` \n",
    "- ``Weekly Price``  \n",
    "- ``Monthly Price`` \n",
    "\n",
    "All others correspond to the independant variables that can be used to predict our dependent variables."
   ]
  },
  {
   "cell_type": "code",
   "execution_count": 15,
   "metadata": {},
   "outputs": [],
   "source": [
    "dependant_variables = ['Price', 'Weekly Price', 'Monthly Price']\n",
    "independant_variables = [var for var in dataset.columns if var not in dependant_variables]"
   ]
  },
  {
   "cell_type": "code",
   "execution_count": 16,
   "metadata": {},
   "outputs": [
    {
     "name": "stdout",
     "output_type": "stream",
     "text": [
      "Dependant variables : ['Price', 'Weekly Price', 'Monthly Price']\n",
      "Independant variables : ['Experiences Offered', 'Host Since', 'Host Response Time', 'Host Response Rate', 'Host Acceptance Rate', 'Host Listings Count', 'Host Total Listings Count', 'Host Verifications', 'Latitude', 'Longitude', 'Property Type', 'Room Type', 'Accommodates', 'Bathrooms', 'Bedrooms', 'Beds', 'Bed Type', 'Amenities', 'Square Feet', 'Security Deposit', 'Cleaning Fee', 'Guests Included', 'Extra People', 'Minimum Nights', 'Maximum Nights', 'Calendar Updated', 'Has Availability', 'Availability 30', 'Availability 60', 'Availability 90', 'Availability 365', 'Number of Reviews', 'Review Scores Rating', 'Review Scores Accuracy', 'Review Scores Cleanliness', 'Review Scores Checkin', 'Review Scores Communication', 'Review Scores Location', 'Review Scores Value', 'Cancellation Policy', 'Calculated host listings count', 'Reviews per Month']\n"
     ]
    }
   ],
   "source": [
    "print(f'Dependant variables : {dependant_variables}')\n",
    "print(f'Independant variables : {independant_variables}')"
   ]
  },
  {
   "cell_type": "markdown",
   "metadata": {},
   "source": [
    "So, we have 3 values to predict, and we will utilize 42 features for the prediction."
   ]
  },
  {
   "cell_type": "code",
   "execution_count": 17,
   "metadata": {},
   "outputs": [
    {
     "data": {
      "text/plain": [
       "3"
      ]
     },
     "execution_count": 17,
     "metadata": {},
     "output_type": "execute_result"
    }
   ],
   "source": [
    "len(dependant_variables)"
   ]
  },
  {
   "cell_type": "code",
   "execution_count": 18,
   "metadata": {},
   "outputs": [
    {
     "data": {
      "text/plain": [
       "42"
      ]
     },
     "execution_count": 18,
     "metadata": {},
     "output_type": "execute_result"
    }
   ],
   "source": [
    "len(independant_variables)"
   ]
  },
  {
   "cell_type": "markdown",
   "metadata": {},
   "source": [
    "Now, we can examine the types of variables, whether they are numerical, categorical, or if they have null values, to guide our preprocessing and analysis decisions."
   ]
  },
  {
   "cell_type": "code",
   "execution_count": 19,
   "metadata": {},
   "outputs": [
    {
     "name": "stdout",
     "output_type": "stream",
     "text": [
      "<class 'pandas.core.frame.DataFrame'>\n",
      "Index: 494954 entries, 6017649 to 10562264\n",
      "Data columns (total 45 columns):\n",
      " #   Column                          Non-Null Count   Dtype  \n",
      "---  ------                          --------------   -----  \n",
      " 0   Experiences Offered             494954 non-null  object \n",
      " 1   Host Since                      494449 non-null  object \n",
      " 2   Host Response Time              379885 non-null  object \n",
      " 3   Host Response Rate              379884 non-null  float64\n",
      " 4   Host Acceptance Rate            42258 non-null   object \n",
      " 5   Host Listings Count             494449 non-null  float64\n",
      " 6   Host Total Listings Count       494448 non-null  float64\n",
      " 7   Host Verifications              494114 non-null  object \n",
      " 8   Latitude                        494953 non-null  float64\n",
      " 9   Longitude                       494953 non-null  float64\n",
      " 10  Property Type                   494943 non-null  object \n",
      " 11  Room Type                       494953 non-null  object \n",
      " 12  Accommodates                    494891 non-null  float64\n",
      " 13  Bathrooms                       493428 non-null  float64\n",
      " 14  Bedrooms                        494328 non-null  float64\n",
      " 15  Beds                            494037 non-null  float64\n",
      " 16  Bed Type                        494953 non-null  object \n",
      " 17  Amenities                       490466 non-null  object \n",
      " 18  Square Feet                     12209 non-null   float64\n",
      " 19  Price                           486996 non-null  float64\n",
      " 20  Weekly Price                    97747 non-null   float64\n",
      " 21  Monthly Price                   96091 non-null   float64\n",
      " 22  Security Deposit                204012 non-null  float64\n",
      " 23  Cleaning Fee                    315715 non-null  float64\n",
      " 24  Guests Included                 494952 non-null  float64\n",
      " 25  Extra People                    494917 non-null  float64\n",
      " 26  Minimum Nights                  494952 non-null  float64\n",
      " 27  Maximum Nights                  494952 non-null  float64\n",
      " 28  Calendar Updated                494953 non-null  object \n",
      " 29  Has Availability                9307 non-null    object \n",
      " 30  Availability 30                 494952 non-null  float64\n",
      " 31  Availability 60                 494952 non-null  float64\n",
      " 32  Availability 90                 494952 non-null  float64\n",
      " 33  Availability 365                494952 non-null  float64\n",
      " 34  Number of Reviews               494952 non-null  float64\n",
      " 35  Review Scores Rating            367134 non-null  float64\n",
      " 36  Review Scores Accuracy          366237 non-null  float64\n",
      " 37  Review Scores Cleanliness       366479 non-null  float64\n",
      " 38  Review Scores Checkin           365918 non-null  float64\n",
      " 39  Review Scores Communication     366434 non-null  float64\n",
      " 40  Review Scores Location          365969 non-null  float64\n",
      " 41  Review Scores Value             365873 non-null  float64\n",
      " 42  Cancellation Policy             494952 non-null  object \n",
      " 43  Calculated host listings count  494087 non-null  float64\n",
      " 44  Reviews per Month               372947 non-null  float64\n",
      "dtypes: float64(33), object(12)\n",
      "memory usage: 173.7+ MB\n"
     ]
    }
   ],
   "source": [
    "dataset.info()"
   ]
  },
  {
   "cell_type": "markdown",
   "metadata": {},
   "source": [
    "For each variable, we can seek to determine whether it is a numerical or categorical variable. This information is crucial in determining which pre-treatment and analysis methods are appropriate for each variable."
   ]
  },
  {
   "cell_type": "code",
   "execution_count": 20,
   "metadata": {},
   "outputs": [
    {
     "name": "stdout",
     "output_type": "stream",
     "text": [
      "Qualitative (categorical)\n",
      " -  Experiences Offered\n",
      " -  Host Since\n",
      " -  Host Response Time\n",
      " -  Host Acceptance Rate\n",
      " -  Host Verifications\n",
      " -  Property Type\n",
      " -  Room Type\n",
      " -  Bed Type\n",
      " -  Amenities\n",
      " -  Calendar Updated\n",
      " -  Has Availability\n",
      " -  Cancellation Policy\n",
      "Quantitative (numerical)\n",
      " -  Host Response Rate\n",
      " -  Host Listings Count\n",
      " -  Host Total Listings Count\n",
      " -  Latitude\n",
      " -  Longitude\n",
      " -  Accommodates\n",
      " -  Bathrooms\n",
      " -  Bedrooms\n",
      " -  Beds\n",
      " -  Square Feet\n",
      " -  Price\n",
      " -  Weekly Price\n",
      " -  Monthly Price\n",
      " -  Security Deposit\n",
      " -  Cleaning Fee\n",
      " -  Guests Included\n",
      " -  Extra People\n",
      " -  Minimum Nights\n",
      " -  Maximum Nights\n",
      " -  Availability 30\n",
      " -  Availability 60\n",
      " -  Availability 90\n",
      " -  Availability 365\n",
      " -  Number of Reviews\n",
      " -  Review Scores Rating\n",
      " -  Review Scores Accuracy\n",
      " -  Review Scores Cleanliness\n",
      " -  Review Scores Checkin\n",
      " -  Review Scores Communication\n",
      " -  Review Scores Location\n",
      " -  Review Scores Value\n",
      " -  Calculated host listings count\n",
      " -  Reviews per Month\n"
     ]
    }
   ],
   "source": [
    "qualitative_columns = dataset.select_dtypes(include='object').columns\n",
    "quantitative_columns = dataset.select_dtypes(include='number').columns\n",
    "\n",
    "print(\"Qualitative (categorical)\")\n",
    "for feat in qualitative_columns:\n",
    "    print(' - ', feat)\n",
    "    \n",
    "print(\"Quantitative (numerical)\")\n",
    "for feat in quantitative_columns:\n",
    "    print(' - ', feat)"
   ]
  },
  {
   "cell_type": "markdown",
   "metadata": {},
   "source": [
    "Here, we observe several issues that we'll need to investigate to understand why certain fields, initially considered numerical, end up being categorical. Consequently, there are operations to be performed.\n",
    "\n",
    "For instance, the ``Host Acceptance Rate`` attribute should be numerical rather than categorical.\n",
    "\n",
    "Additionally, I would like to transform certain categorical attributes into numerical ones. This is particularly the case for:\n",
    "- ``Host Response Time``: I would like to represent it, for example, as a number of days or hours.\n",
    "- ``Host Since``: I aim to represent it also as a number of days.\n",
    "- ``Calendar Updated``: I would also like to represent it as a number of days.\n",
    "- ``Has Availability``: I want this to be a boolean attribute, taking the value True (1) if available and False (0) if not available.\n",
    "\n",
    "Thus, transforming these categorical attributes into numerical ones will reduce the number of features in our encoded dataset and consequently the dataset's dimensionality, enhancing computational efficiency. Numerical features are often more suitable for machine learning models, improving interpretability and generalization performance.\n",
    "\n",
    "So, it will be only necessary to encode the following attributes: \n",
    " -  ``Experiences Offered``\n",
    " -  ``Host Verifications``\n",
    " -  ``Property Type``\n",
    " -  ``Room Type``\n",
    " -  ``Bed Type``\n",
    " -  ``Amenities``\n",
    " -  ``Cancellation Policy``"
   ]
  },
  {
   "cell_type": "markdown",
   "metadata": {},
   "source": [
    "### 2.3 Remove duplicates\n",
    "Now that we have quickly sorted through the columns that may be useful, it's also important to consider whether there are redundant rows to be removed. Indeed, since these data were obtained through scraping, it's possible that the scraper collected multiple instances of the same data."
   ]
  },
  {
   "cell_type": "code",
   "execution_count": 21,
   "metadata": {},
   "outputs": [
    {
     "name": "stdout",
     "output_type": "stream",
     "text": [
      "Total number of duplicates : 2\n"
     ]
    }
   ],
   "source": [
    "number_duplicated = dataset.duplicated().sum()\n",
    "print(\"Total number of duplicates :\", number_duplicated)"
   ]
  },
  {
   "cell_type": "markdown",
   "metadata": {},
   "source": [
    "Here, we have two duplicate rows, so we no need to delete some duplicate rows."
   ]
  },
  {
   "cell_type": "code",
   "execution_count": 22,
   "metadata": {},
   "outputs": [],
   "source": [
    "dataset.drop_duplicates(inplace=True)"
   ]
  },
  {
   "cell_type": "markdown",
   "metadata": {},
   "source": [
    "### 2.4 Remove values errors"
   ]
  },
  {
   "cell_type": "markdown",
   "metadata": {},
   "source": [
    "### 2.5 Outliers Treatment"
   ]
  },
  {
   "cell_type": "markdown",
   "metadata": {},
   "source": [
    "### 2.6 Handle Missing Values"
   ]
  },
  {
   "cell_type": "code",
   "execution_count": 23,
   "metadata": {},
   "outputs": [],
   "source": [
    "def display_missing_values():\n",
    "    missing_percentage = dataset.isnull().mean() * 100\n",
    "    missing_percentage = missing_percentage.sort_values(ascending=False)\n",
    "    print('Missing Values :')\n",
    "    print(missing_percentage)\n",
    "\n",
    "    plt.figure(figsize=(10, 10))\n",
    "    missing_percentage.sort_values().plot(kind='barh', color='skyblue')\n",
    "    plt.xlabel('Percentage de valeurs manquantes for each features')\n",
    "    plt.ylabel('Features')\n",
    "    plt.title('Percentage missing values')\n",
    "    plt.grid(axis='x')\n",
    "    plt.show()"
   ]
  },
  {
   "cell_type": "code",
   "execution_count": 24,
   "metadata": {},
   "outputs": [
    {
     "name": "stdout",
     "output_type": "stream",
     "text": [
      "Missing Values :\n",
      "Has Availability                  98.119616\n",
      "Square Feet                       97.533296\n",
      "Host Acceptance Rate              91.462606\n",
      "Monthly Price                     80.585996\n",
      "Weekly Price                      80.251418\n",
      "Security Deposit                  58.781862\n",
      "Cleaning Fee                      36.213411\n",
      "Review Scores Value               26.079499\n",
      "Review Scores Checkin             26.070407\n",
      "Review Scores Location            26.060103\n",
      "Review Scores Accuracy            26.005754\n",
      "Review Scores Communication       25.966154\n",
      "Review Scores Cleanliness         25.956860\n",
      "Review Scores Rating              25.824726\n",
      "Reviews per Month                 24.650269\n",
      "Host Response Rate                23.248719\n",
      "Host Response Time                23.248517\n",
      "Price                              1.607833\n",
      "Amenities                          0.906755\n",
      "Bathrooms                          0.308313\n",
      "Beds                               0.185270\n",
      "Calculated host listings count     0.175169\n",
      "Host Verifications                 0.169713\n",
      "Bedrooms                           0.126477\n",
      "Host Total Listings Count          0.102232\n",
      "Host Since                         0.102030\n",
      "Host Listings Count                0.102030\n",
      "Accommodates                       0.012729\n",
      "Extra People                       0.007475\n",
      "Property Type                      0.002222\n",
      "Cancellation Policy                0.000404\n",
      "Availability 365                   0.000404\n",
      "Number of Reviews                  0.000404\n",
      "Availability 30                    0.000404\n",
      "Availability 90                    0.000404\n",
      "Availability 60                    0.000404\n",
      "Maximum Nights                     0.000404\n",
      "Minimum Nights                     0.000404\n",
      "Guests Included                    0.000404\n",
      "Longitude                          0.000202\n",
      "Latitude                           0.000202\n",
      "Bed Type                           0.000202\n",
      "Calendar Updated                   0.000202\n",
      "Room Type                          0.000202\n",
      "Experiences Offered                0.000000\n",
      "dtype: float64\n"
     ]
    },
    {
     "data": {
      "image/png": "[encoded data removed]",
      "text/plain": [
       "<Figure size 1000x1000 with 1 Axes>"
      ]
     },
     "metadata": {},
     "output_type": "display_data"
    }
   ],
   "source": [
    "display_missing_values()"
   ]
  },
  {
   "cell_type": "markdown",
   "metadata": {},
   "source": [
    "We can observe that each feature in our dataset has missing values except for only the  ``Experiences Offered`` attribute. So we have to deal with them all."
   ]
  },
  {
   "cell_type": "markdown",
   "metadata": {},
   "source": [
    "Our primary goal is to predict the price of our accommodations. Therefore, it is crucial that all rows have the price specified. This is why I have decided to drop the rows that do not have information on the price."
   ]
  },
  {
   "cell_type": "code",
   "execution_count": 25,
   "metadata": {},
   "outputs": [],
   "source": [
    "dataset.dropna(subset=['Price'], inplace=True)"
   ]
  },
  {
   "cell_type": "markdown",
   "metadata": {},
   "source": [
    "We can observe that there are many missing values for our dependent variables ``Monthly Price`` and ``Weekly Price``. Therefore, I have decided to impute values for these features using the price multiplied by the number of days"
   ]
  },
  {
   "cell_type": "code",
   "execution_count": 26,
   "metadata": {},
   "outputs": [],
   "source": [
    "dataset['Monthly Price'] = dataset['Monthly Price'].fillna(dataset['Price'] * 30.5)"
   ]
  },
  {
   "cell_type": "code",
   "execution_count": 27,
   "metadata": {},
   "outputs": [],
   "source": [
    "dataset['Weekly Price'] = dataset['Weekly Price'].fillna(dataset['Price'] * 7)"
   ]
  },
  {
   "cell_type": "markdown",
   "metadata": {},
   "source": [
    "To enhance the quality of our data, I have made the decision to drop columns that exhibit more than 50% missing values. The presence of a significant number of missing values can compromise the integrity of our analyses and the accuracy of our models. "
   ]
  },
  {
   "cell_type": "code",
   "execution_count": 28,
   "metadata": {},
   "outputs": [],
   "source": [
    "dataset.dropna(axis=1, thresh=0.5 * len(dataset), inplace=True)"
   ]
  },
  {
   "cell_type": "markdown",
   "metadata": {},
   "source": [
    "For all the review scores, I have chosen to handle missing values by imputing the most frequently occurring value. This imputation strategy is particularly useful when dealing with ordinal data."
   ]
  },
  {
   "cell_type": "code",
   "execution_count": 29,
   "metadata": {},
   "outputs": [],
   "source": [
    "review_score_columns = ['Review Scores Value', 'Review Scores Checkin', 'Review Scores Location', 'Review Scores Accuracy', 'Review Scores Communication', 'Review Scores Cleanliness', 'Review Scores Rating']\n",
    "for review_score_name in review_score_columns:\n",
    "    most_frequent_value = dataset[review_score_name].mode()[0]\n",
    "    dataset[review_score_name].fillna(most_frequent_value, inplace=True)"
   ]
  },
  {
   "cell_type": "markdown",
   "metadata": {},
   "source": [
    "In addition, for missing values in the ``Host Since`` column, I have chosen to impute the most frequently occurring value. "
   ]
  },
  {
   "cell_type": "code",
   "execution_count": 30,
   "metadata": {},
   "outputs": [],
   "source": [
    "most_frequent_host_since = dataset['Host Since'].mode()[0]\n",
    "dataset['Host Since'].fillna(most_frequent_host_since, inplace=True)"
   ]
  },
  {
   "cell_type": "markdown",
   "metadata": {},
   "source": [
    "I have decided to impute the value of 0 to the missing values of ``Number of Reviews``, indicating that the accommodation has not received any reviews in cases where the field is not filled."
   ]
  },
  {
   "cell_type": "code",
   "execution_count": 31,
   "metadata": {},
   "outputs": [],
   "source": [
    "dataset['Number of Reviews'].fillna(0, inplace=True)"
   ]
  },
  {
   "cell_type": "markdown",
   "metadata": {},
   "source": [
    "To impute values for ``Reviews per Month``, I have decided to examine whether the accommodation has received reviews:\n",
    "- If it has never received any reviews, I assign it the value of 0.\n",
    "- If it has received reviews, I calculate the number of months between the accommodation's ``Host Since`` date and the latest ``Host Since`` date in the entire dataset. Then, I divide the number of reviews by the calculated number of months.\n",
    "\n",
    "Here, we are adding a temporary column, ``Months Since Hosting``, which calculates the number of months since the listing has been on the market. This helps avoid performing calculations row by row, thus speeding up the process. We will drop it right after."
   ]
  },
  {
   "cell_type": "code",
   "execution_count": 32,
   "metadata": {},
   "outputs": [],
   "source": [
    "latest_host_since = dataset['Host Since'].max()\n",
    "dataset['Months Since Hosting'] = (pd.to_datetime(latest_host_since) - pd.to_datetime(dataset['Host Since'])).dt.days // 30.5"
   ]
  },
  {
   "cell_type": "code",
   "execution_count": 33,
   "metadata": {},
   "outputs": [],
   "source": [
    "def calculate_reviews_per_month(row):\n",
    "    if pd.notna(row['Reviews per Month']):\n",
    "        return row['Reviews per Month']\n",
    "    \n",
    "    nb_review = row['Number of Reviews']\n",
    "    nb_months_since_hosting = row['Months Since Hosting']\n",
    "\n",
    "    if pd.isnull(nb_review) or nb_months_since_hosting <= 0:\n",
    "        return 0\n",
    "    else:\n",
    "        return nb_review / nb_months_since_hosting"
   ]
  },
  {
   "cell_type": "code",
   "execution_count": 34,
   "metadata": {},
   "outputs": [],
   "source": [
    "dataset['Reviews per Month'] = dataset.apply(calculate_reviews_per_month, axis=1)"
   ]
  },
  {
   "cell_type": "code",
   "execution_count": 35,
   "metadata": {},
   "outputs": [],
   "source": [
    "dataset.drop('Months Since Hosting', axis=1, inplace=True)"
   ]
  },
  {
   "cell_type": "markdown",
   "metadata": {},
   "source": [
    "Now, let's turn our attention to the ``Amenities`` attribute. Each provided value appears as a string where individual amenities are separated by commas. I assume that accommodations with missing data do not have any amenities, so I fill in the missing values with an empty string."
   ]
  },
  {
   "cell_type": "code",
   "execution_count": 36,
   "metadata": {},
   "outputs": [],
   "source": [
    "dataset['Amenities'].fillna('', inplace=True)"
   ]
  },
  {
   "cell_type": "markdown",
   "metadata": {},
   "source": [
    "For each feature related to availability, guest count, listing count, and the number of rooms/beds/bathrooms, cleaning fee, I have opted to impute the median value, as these are numerical variables and to ensures that we fill in missing values with a representative value. The median, being the middle value in a sorted dataset, is less influenced by extreme values compared to the mean, especially when dealing with ordinal values. "
   ]
  },
  {
   "cell_type": "code",
   "execution_count": 37,
   "metadata": {},
   "outputs": [],
   "source": [
    "columns_name_impute_median = ['Availability 30', 'Availability 60', 'Availability 90', 'Availability 365', 'Bathrooms', 'Beds', 'Bedrooms', 'Calculated host listings count', 'Host Total Listings Count', 'Host Listings Count', 'Maximum Nights', 'Minimum Nights', 'Guests Included', 'Extra People', 'Accommodates', 'Cleaning Fee', 'Host Response Rate']\n",
    "for col_name in columns_name_impute_median:\n",
    "    available_median = dataset[col_name].median()\n",
    "    dataset[col_name].fillna(available_median, inplace=True)"
   ]
  },
  {
   "cell_type": "markdown",
   "metadata": {},
   "source": [
    "As for attributes such as ``Host Verifications``, ``Host Response Time``, ``Property Type``, and ``Cancellation Policy``, being categorical variables, I have chosen to impute their missing values with the most frequently occurring values"
   ]
  },
  {
   "cell_type": "code",
   "execution_count": 38,
   "metadata": {},
   "outputs": [],
   "source": [
    "for col_name in ['Host Verifications', 'Host Response Time', 'Property Type', 'Cancellation Policy']:\n",
    "    most_frequent_value = dataset[col_name].mode()[0]\n",
    "    dataset[col_name].fillna(most_frequent_value, inplace=True)"
   ]
  },
  {
   "cell_type": "markdown",
   "metadata": {},
   "source": [
    "Let's check again our missing values."
   ]
  },
  {
   "cell_type": "code",
   "execution_count": 39,
   "metadata": {},
   "outputs": [
    {
     "name": "stdout",
     "output_type": "stream",
     "text": [
      "Missing Values :\n",
      "Experiences Offered               0.0\n",
      "Guests Included                   0.0\n",
      "Minimum Nights                    0.0\n",
      "Maximum Nights                    0.0\n",
      "Calendar Updated                  0.0\n",
      "Availability 30                   0.0\n",
      "Availability 60                   0.0\n",
      "Availability 90                   0.0\n",
      "Availability 365                  0.0\n",
      "Number of Reviews                 0.0\n",
      "Review Scores Rating              0.0\n",
      "Review Scores Accuracy            0.0\n",
      "Review Scores Cleanliness         0.0\n",
      "Review Scores Checkin             0.0\n",
      "Review Scores Communication       0.0\n",
      "Review Scores Location            0.0\n",
      "Review Scores Value               0.0\n",
      "Cancellation Policy               0.0\n",
      "Calculated host listings count    0.0\n",
      "Extra People                      0.0\n",
      "Cleaning Fee                      0.0\n",
      "Host Since                        0.0\n",
      "Monthly Price                     0.0\n",
      "Host Response Time                0.0\n",
      "Host Response Rate                0.0\n",
      "Host Listings Count               0.0\n",
      "Host Total Listings Count         0.0\n",
      "Host Verifications                0.0\n",
      "Latitude                          0.0\n",
      "Longitude                         0.0\n",
      "Property Type                     0.0\n",
      "Room Type                         0.0\n",
      "Accommodates                      0.0\n",
      "Bathrooms                         0.0\n",
      "Bedrooms                          0.0\n",
      "Beds                              0.0\n",
      "Bed Type                          0.0\n",
      "Amenities                         0.0\n",
      "Price                             0.0\n",
      "Weekly Price                      0.0\n",
      "Reviews per Month                 0.0\n",
      "dtype: float64\n"
     ]
    },
    {
     "data": {
      "image/png": "[encoded data removed]",
      "text/plain": [
       "<Figure size 1000x1000 with 1 Axes>"
      ]
     },
     "metadata": {},
     "output_type": "display_data"
    }
   ],
   "source": [
    "display_missing_values()"
   ]
  },
  {
   "cell_type": "markdown",
   "metadata": {},
   "source": [
    "Now, we don't have missing values anymore."
   ]
  },
  {
   "cell_type": "markdown",
   "metadata": {},
   "source": [
    "### 2.7 Drop Unnecessary Columns"
   ]
  },
  {
   "cell_type": "markdown",
   "metadata": {},
   "source": [
    "## 3. Exploratory Data Analysis"
   ]
  },
  {
   "cell_type": "markdown",
   "metadata": {},
   "source": [
    "### 3.1 Univariate Analysis"
   ]
  },
  {
   "cell_type": "markdown",
   "metadata": {},
   "source": [
    "### 3.2 Bivariate Analysis\n",
    "#### 3.2.1 Numerical-Numerical Variable"
   ]
  },
  {
   "cell_type": "markdown",
   "metadata": {},
   "source": [
    "#### 3.2.2 Categorical-Numerical Variable"
   ]
  },
  {
   "cell_type": "markdown",
   "metadata": {},
   "source": [
    "## 4. Data Preprocessing\n",
    "### 4.1 Transformation of Distributions"
   ]
  },
  {
   "cell_type": "markdown",
   "metadata": {},
   "source": [
    "### 4.2 Feature Engineering\n",
    "#### 4.2.1 Creating New Features"
   ]
  },
  {
   "cell_type": "markdown",
   "metadata": {},
   "source": [
    "#### 4.2.2 Feature Scaling"
   ]
  },
  {
   "cell_type": "markdown",
   "metadata": {},
   "source": [
    "#### 4.2.3 Encoding Categorical Variables\n",
    "##### 4.2.3.1 Label Encoding"
   ]
  },
  {
   "cell_type": "markdown",
   "metadata": {},
   "source": [
    "##### 4.2.3.2 One Hot Encoding"
   ]
  },
  {
   "cell_type": "markdown",
   "metadata": {},
   "source": [
    "### 4.3 Data Splitting (Train-Test-Validation)"
   ]
  },
  {
   "cell_type": "markdown",
   "metadata": {},
   "source": [
    "## 5. The model\n",
    "### 5.1 Model Building"
   ]
  },
  {
   "cell_type": "markdown",
   "metadata": {},
   "source": [
    "### 5.2 Model Training"
   ]
  },
  {
   "cell_type": "markdown",
   "metadata": {},
   "source": [
    "### 5.3 Model Evaluation\n",
    "#### 5.3.1 K-Fold Cross Validation"
   ]
  },
  {
   "cell_type": "markdown",
   "metadata": {},
   "source": [
    "#### 5.3.2 Hyperparameter Tunning"
   ]
  },
  {
   "cell_type": "markdown",
   "metadata": {},
   "source": [
    "#### 5.3.3 Re-train with optimal hyperparameters for predictions"
   ]
  },
  {
   "cell_type": "markdown",
   "metadata": {},
   "source": [
    "#### 5.3.4 Feature Importance"
   ]
  },
  {
   "cell_type": "markdown",
   "metadata": {},
   "source": [
    "#### 5.3.5 Learning Curves"
   ]
  },
  {
   "cell_type": "markdown",
   "metadata": {},
   "source": [
    "### 5.4 Test the model on Test Set"
   ]
  },
  {
   "cell_type": "markdown",
   "metadata": {},
   "source": [
    "## 6. Conclusion\n",
    "### 6.1 Results of the project / Validating hypothesis\n",
    "...\n",
    "### 6.2 Improvements\n",
    "...\n",
    "### 6.3 Conclusion on the project / course\n",
    "..."
   ]
  }
 ],
 "metadata": {
  "kernelspec": {
   "display_name": ".venv",
   "language": "python",
   "name": "python3"
  },
  "language_info": {
   "codemirror_mode": {
    "name": "ipython",
    "version": 3
   },
   "file_extension": ".py",
   "mimetype": "text/x-python",
   "name": "python",
   "nbconvert_exporter": "python",
   "pygments_lexer": "ipython3",
   "version": "3.11.5"
  }
 },
 "nbformat": 4,
 "nbformat_minor": 2
}
