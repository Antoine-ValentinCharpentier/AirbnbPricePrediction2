{
 "cells": [
  {
   "cell_type": "markdown",
   "metadata": {},
   "source": [
    "# AirbnbPricePrediction\n",
    "\n",
    "## Table of Contents\n",
    "1. Project Preparation\n",
    "   - 1.1 Defining the problem and project goals.\n",
    "   - 1.2 Hypothesis\n",
    "\n",
    "2. Data Cleaning\n",
    "   - 2.1 Imports\n",
    "      - 2.1.1 Import libraries\n",
    "      - 2.1.2 Import dataset\n",
    "   - 2.2 Variable Identification\n",
    "   - 2.3 Remove duplicates\n",
    "   - 2.4 Remove values errors\n",
    "   - 2.5 Outliers Treatment\n",
    "   - 2.6 Handle Missing Values\n",
    "   - 2.7 Drop Unnecessary Columns\n",
    "\n",
    "3. Exploratory Data Analysis\n",
    "   - 3.1 Initial Exploration\n",
    "   - 3.2 Univariate Analysis\n",
    "   - 3.3 Bivariate Analysis\n",
    "      - 3.3.1 Numerical-Numerical Variable\n",
    "      - 3.3.2 Categorical-Numerical Variable\n",
    "\n",
    "4. Data Preprocessing\n",
    "   - 4.1 Transformation of Distributions\n",
    "   - 4.2 Feature Engineering\n",
    "      - 4.2.1 Creating New Features\n",
    "      - 4.2.2 Feature Scaling\n",
    "      - 4.2.3 Encoding Categorical Variables\n",
    "         - 4.2.3.1 Label Encoding\n",
    "         - 4.2.3.2 One Hot Encoding\n",
    "   - 4.3 Data Splitting (Train-Test-Validation)\n",
    "\n",
    "5. The model\n",
    "   - 5.1 Model Building\n",
    "   - 5.2 Model Training\n",
    "   - 5.3 Model Evaluation\n",
    "      - 5.3.1 K-Fold Cross Validation\n",
    "      - 5.3.2 Hyperparameter Tunning\n",
    "      - 5.3.3 Re-train with optimal hyperparameters for predictions\n",
    "      - 5.3.4 Feature Importance\n",
    "      - 5.3.5 Learning Curves\n",
    "   - 5.4 Test the model on Test Set\n",
    "\n",
    "6. Conclusion\n",
    "   - 6.1 Results of the project / Validating hypothesis\n",
    "   - 6.2 Improvements\n",
    "   - 6.3 Conclusion on the project / course\n",
    "\n",
    "## 1. Project Preparation\n",
    "...\n",
    "### 1.1 Defining the problem and project goals\n",
    "...\n",
    "### 1.2 Hypothesis\n",
    "...\n",
    "\n",
    "\n",
    "## 2. Data Cleaning\n",
    "...\n",
    "### 2.1 Imports\n",
    "#### 2.1.1 Import libraries"
   ]
  },
  {
   "cell_type": "code",
   "execution_count": 202,
   "metadata": {},
   "outputs": [],
   "source": [
    "import pandas as pd\n",
    "import numpy as np"
   ]
  },
  {
   "cell_type": "code",
   "execution_count": 203,
   "metadata": {},
   "outputs": [],
   "source": [
    "pd.set_option('display.max_columns', None)"
   ]
  },
  {
   "cell_type": "markdown",
   "metadata": {},
   "source": [
    "#### 2.1.2 Import dataset"
   ]
  },
  {
   "cell_type": "code",
   "execution_count": 204,
   "metadata": {},
   "outputs": [
    {
     "name": "stderr",
     "output_type": "stream",
     "text": [
      "C:\\Users\\charp\\AppData\\Local\\Temp\\ipykernel_15940\\511297216.py:1: DtypeWarning: Columns (0,2,66) have mixed types. Specify dtype option on import or set low_memory=False.\n",
      "  dataset = pd.read_csv('./data/airbnb-listings.csv', sep=\";\")\n"
     ]
    }
   ],
   "source": [
    "dataset = pd.read_csv('./data/airbnb-listings.csv', sep=\";\")"
   ]
  },
  {
   "cell_type": "code",
   "execution_count": 205,
   "metadata": {},
   "outputs": [
    {
     "data": {
      "text/html": [
       "<div>\n",
       "<style scoped>\n",
       "    .dataframe tbody tr th:only-of-type {\n",
       "        vertical-align: middle;\n",
       "    }\n",
       "\n",
       "    .dataframe tbody tr th {\n",
       "        vertical-align: top;\n",
       "    }\n",
       "\n",
       "    .dataframe thead th {\n",
       "        text-align: right;\n",
       "    }\n",
       "</style>\n",
       "<table border=\"1\" class=\"dataframe\">\n",
       "  <thead>\n",
       "    <tr style=\"text-align: right;\">\n",
       "      <th></th>\n",
       "      <th>ID</th>\n",
       "      <th>Listing Url</th>\n",
       "      <th>Scrape ID</th>\n",
       "      <th>Last Scraped</th>\n",
       "      <th>Name</th>\n",
       "      <th>Summary</th>\n",
       "      <th>Space</th>\n",
       "      <th>Description</th>\n",
       "      <th>Experiences Offered</th>\n",
       "      <th>Neighborhood Overview</th>\n",
       "      <th>Notes</th>\n",
       "      <th>Transit</th>\n",
       "      <th>Access</th>\n",
       "      <th>Interaction</th>\n",
       "      <th>House Rules</th>\n",
       "      <th>Thumbnail Url</th>\n",
       "      <th>Medium Url</th>\n",
       "      <th>Picture Url</th>\n",
       "      <th>XL Picture Url</th>\n",
       "      <th>Host ID</th>\n",
       "      <th>Host URL</th>\n",
       "      <th>Host Name</th>\n",
       "      <th>Host Since</th>\n",
       "      <th>Host Location</th>\n",
       "      <th>Host About</th>\n",
       "      <th>Host Response Time</th>\n",
       "      <th>Host Response Rate</th>\n",
       "      <th>Host Acceptance Rate</th>\n",
       "      <th>Host Thumbnail Url</th>\n",
       "      <th>Host Picture Url</th>\n",
       "      <th>Host Neighbourhood</th>\n",
       "      <th>Host Listings Count</th>\n",
       "      <th>Host Total Listings Count</th>\n",
       "      <th>Host Verifications</th>\n",
       "      <th>Street</th>\n",
       "      <th>Neighbourhood</th>\n",
       "      <th>Neighbourhood Cleansed</th>\n",
       "      <th>Neighbourhood Group Cleansed</th>\n",
       "      <th>City</th>\n",
       "      <th>State</th>\n",
       "      <th>Zipcode</th>\n",
       "      <th>Market</th>\n",
       "      <th>Smart Location</th>\n",
       "      <th>Country Code</th>\n",
       "      <th>Country</th>\n",
       "      <th>Latitude</th>\n",
       "      <th>Longitude</th>\n",
       "      <th>Property Type</th>\n",
       "      <th>Room Type</th>\n",
       "      <th>Accommodates</th>\n",
       "      <th>Bathrooms</th>\n",
       "      <th>Bedrooms</th>\n",
       "      <th>Beds</th>\n",
       "      <th>Bed Type</th>\n",
       "      <th>Amenities</th>\n",
       "      <th>Square Feet</th>\n",
       "      <th>Price</th>\n",
       "      <th>Weekly Price</th>\n",
       "      <th>Monthly Price</th>\n",
       "      <th>Security Deposit</th>\n",
       "      <th>Cleaning Fee</th>\n",
       "      <th>Guests Included</th>\n",
       "      <th>Extra People</th>\n",
       "      <th>Minimum Nights</th>\n",
       "      <th>Maximum Nights</th>\n",
       "      <th>Calendar Updated</th>\n",
       "      <th>Has Availability</th>\n",
       "      <th>Availability 30</th>\n",
       "      <th>Availability 60</th>\n",
       "      <th>Availability 90</th>\n",
       "      <th>Availability 365</th>\n",
       "      <th>Calendar last Scraped</th>\n",
       "      <th>Number of Reviews</th>\n",
       "      <th>First Review</th>\n",
       "      <th>Last Review</th>\n",
       "      <th>Review Scores Rating</th>\n",
       "      <th>Review Scores Accuracy</th>\n",
       "      <th>Review Scores Cleanliness</th>\n",
       "      <th>Review Scores Checkin</th>\n",
       "      <th>Review Scores Communication</th>\n",
       "      <th>Review Scores Location</th>\n",
       "      <th>Review Scores Value</th>\n",
       "      <th>License</th>\n",
       "      <th>Jurisdiction Names</th>\n",
       "      <th>Cancellation Policy</th>\n",
       "      <th>Calculated host listings count</th>\n",
       "      <th>Reviews per Month</th>\n",
       "      <th>Geolocation</th>\n",
       "      <th>Features</th>\n",
       "    </tr>\n",
       "  </thead>\n",
       "  <tbody>\n",
       "    <tr>\n",
       "      <th>54263</th>\n",
       "      <td>6105366</td>\n",
       "      <td>https://www.airbnb.com/rooms/6105366</td>\n",
       "      <td>20170602102612</td>\n",
       "      <td>2017-06-02</td>\n",
       "      <td>Bayou St. John Garden Apt - Jazz Fest 2 blocks</td>\n",
       "      <td>Garden apartment in a lovely walkable neighbor...</td>\n",
       "      <td>An apartment in a beautiful private home in th...</td>\n",
       "      <td>Garden apartment in a lovely walkable neighbor...</td>\n",
       "      <td>none</td>\n",
       "      <td>According to Fodors: \"With its tree-lined stre...</td>\n",
       "      <td>NaN</td>\n",
       "      <td>On a major bus line that runs to the French Qu...</td>\n",
       "      <td>Guests will have access to apartment and entra...</td>\n",
       "      <td>Guests are greeted by the local host, who will...</td>\n",
       "      <td>1. We ask guests to be respectful of the fully...</td>\n",
       "      <td>https://a0.muscache.com/im/pictures/83634086/c...</td>\n",
       "      <td>https://a0.muscache.com/im/pictures/83634086/c...</td>\n",
       "      <td>https://public.opendatasoft.com/api/explore/v2...</td>\n",
       "      <td>https://a0.muscache.com/im/pictures/83634086/c...</td>\n",
       "      <td>4887507</td>\n",
       "      <td>https://www.airbnb.com/users/show/4887507</td>\n",
       "      <td>Roxanne And Tim</td>\n",
       "      <td>2013-01-28</td>\n",
       "      <td>New Orleans, Louisiana, United States</td>\n",
       "      <td>Originally from the Midwest, retired to New Or...</td>\n",
       "      <td>within a day</td>\n",
       "      <td>100.0</td>\n",
       "      <td>NaN</td>\n",
       "      <td>https://a0.muscache.com/im/users/4887507/profi...</td>\n",
       "      <td>https://a0.muscache.com/im/users/4887507/profi...</td>\n",
       "      <td>Bayou St. John</td>\n",
       "      <td>2.0</td>\n",
       "      <td>2.0</td>\n",
       "      <td>email,phone,reviews,kba</td>\n",
       "      <td>Bayou St. John, New Orleans, LA 70119, United ...</td>\n",
       "      <td>Bayou St. John</td>\n",
       "      <td>Bayou St. John</td>\n",
       "      <td>NaN</td>\n",
       "      <td>New Orleans</td>\n",
       "      <td>LA</td>\n",
       "      <td>70119</td>\n",
       "      <td>New Orleans</td>\n",
       "      <td>New Orleans, LA</td>\n",
       "      <td>US</td>\n",
       "      <td>United States</td>\n",
       "      <td>29.978460</td>\n",
       "      <td>-90.082995</td>\n",
       "      <td>Apartment</td>\n",
       "      <td>Entire home/apt</td>\n",
       "      <td>4.0</td>\n",
       "      <td>1.0</td>\n",
       "      <td>1.0</td>\n",
       "      <td>2.0</td>\n",
       "      <td>Real Bed</td>\n",
       "      <td>Cable TV,Internet,Wireless Internet,Air condit...</td>\n",
       "      <td>NaN</td>\n",
       "      <td>140.0</td>\n",
       "      <td>NaN</td>\n",
       "      <td>NaN</td>\n",
       "      <td>500.0</td>\n",
       "      <td>65.0</td>\n",
       "      <td>2.0</td>\n",
       "      <td>25.0</td>\n",
       "      <td>2.0</td>\n",
       "      <td>1125.0</td>\n",
       "      <td>7 weeks ago</td>\n",
       "      <td>NaN</td>\n",
       "      <td>30.0</td>\n",
       "      <td>60.0</td>\n",
       "      <td>90.0</td>\n",
       "      <td>365.0</td>\n",
       "      <td>2017-06-02</td>\n",
       "      <td>11.0</td>\n",
       "      <td>2015-10-07</td>\n",
       "      <td>2017-02-26</td>\n",
       "      <td>98.0</td>\n",
       "      <td>10.0</td>\n",
       "      <td>10.0</td>\n",
       "      <td>10.0</td>\n",
       "      <td>10.0</td>\n",
       "      <td>10.0</td>\n",
       "      <td>9.0</td>\n",
       "      <td>NaN</td>\n",
       "      <td>Louisiana State, New Orleans, LA</td>\n",
       "      <td>strict</td>\n",
       "      <td>2.0</td>\n",
       "      <td>0.55</td>\n",
       "      <td>29.97846046336117, -90.08299533436112</td>\n",
       "      <td>Host Is Superhost,Host Has Profile Pic,Host Id...</td>\n",
       "    </tr>\n",
       "    <tr>\n",
       "      <th>382178</th>\n",
       "      <td>16265358</td>\n",
       "      <td>https://www.airbnb.com/rooms/16265358</td>\n",
       "      <td>20170304065726</td>\n",
       "      <td>2017-03-05</td>\n",
       "      <td>Studio Flat Clerkenwell Farringdon Holborn (303)</td>\n",
       "      <td>My place is good for solo adventurers, and bus...</td>\n",
       "      <td>The apartment is a self-contained single room ...</td>\n",
       "      <td>My place is good for solo adventurers, and bus...</td>\n",
       "      <td>none</td>\n",
       "      <td>Perfect central London location - Sainsbury’s ...</td>\n",
       "      <td>NaN</td>\n",
       "      <td>Very convenient transport links! Closest Tube ...</td>\n",
       "      <td>You will have full access to the common room, ...</td>\n",
       "      <td>I will be able to offer help 24/7 with any req...</td>\n",
       "      <td>NaN</td>\n",
       "      <td>https://a0.muscache.com/im/pictures/428a12f6-a...</td>\n",
       "      <td>https://a0.muscache.com/im/pictures/428a12f6-a...</td>\n",
       "      <td>https://public.opendatasoft.com/api/explore/v2...</td>\n",
       "      <td>https://a0.muscache.com/im/pictures/428a12f6-a...</td>\n",
       "      <td>62368024</td>\n",
       "      <td>https://www.airbnb.com/users/show/62368024</td>\n",
       "      <td>Saem</td>\n",
       "      <td>2016-03-10</td>\n",
       "      <td>London, England, United Kingdom</td>\n",
       "      <td>NaN</td>\n",
       "      <td>within an hour</td>\n",
       "      <td>99.0</td>\n",
       "      <td>NaN</td>\n",
       "      <td>https://a0.muscache.com/im/pictures/75bfadc2-7...</td>\n",
       "      <td>https://a0.muscache.com/im/pictures/75bfadc2-7...</td>\n",
       "      <td>Clerkenwell</td>\n",
       "      <td>56.0</td>\n",
       "      <td>56.0</td>\n",
       "      <td>email,phone,reviews,jumio,government_id</td>\n",
       "      <td>Herbal Hill, London, England EC1R, United Kingdom</td>\n",
       "      <td>Clerkenwell</td>\n",
       "      <td>Islington</td>\n",
       "      <td>NaN</td>\n",
       "      <td>London</td>\n",
       "      <td>England</td>\n",
       "      <td>EC1R</td>\n",
       "      <td>London</td>\n",
       "      <td>London, United Kingdom</td>\n",
       "      <td>GB</td>\n",
       "      <td>United Kingdom</td>\n",
       "      <td>51.523568</td>\n",
       "      <td>-0.108069</td>\n",
       "      <td>Apartment</td>\n",
       "      <td>Entire home/apt</td>\n",
       "      <td>1.0</td>\n",
       "      <td>1.0</td>\n",
       "      <td>0.0</td>\n",
       "      <td>1.0</td>\n",
       "      <td>Real Bed</td>\n",
       "      <td>TV,Cable TV,Internet,Wireless Internet,Kitchen...</td>\n",
       "      <td>NaN</td>\n",
       "      <td>63.0</td>\n",
       "      <td>NaN</td>\n",
       "      <td>NaN</td>\n",
       "      <td>NaN</td>\n",
       "      <td>10.0</td>\n",
       "      <td>1.0</td>\n",
       "      <td>0.0</td>\n",
       "      <td>1.0</td>\n",
       "      <td>1125.0</td>\n",
       "      <td>a week ago</td>\n",
       "      <td>NaN</td>\n",
       "      <td>0.0</td>\n",
       "      <td>0.0</td>\n",
       "      <td>0.0</td>\n",
       "      <td>40.0</td>\n",
       "      <td>2017-03-05</td>\n",
       "      <td>0.0</td>\n",
       "      <td>NaN</td>\n",
       "      <td>NaN</td>\n",
       "      <td>NaN</td>\n",
       "      <td>NaN</td>\n",
       "      <td>NaN</td>\n",
       "      <td>NaN</td>\n",
       "      <td>NaN</td>\n",
       "      <td>NaN</td>\n",
       "      <td>NaN</td>\n",
       "      <td>NaN</td>\n",
       "      <td>NaN</td>\n",
       "      <td>flexible</td>\n",
       "      <td>53.0</td>\n",
       "      <td>NaN</td>\n",
       "      <td>51.52356843048189, -0.10806882760753102</td>\n",
       "      <td>Host Has Profile Pic,Host Identity Verified,Is...</td>\n",
       "    </tr>\n",
       "    <tr>\n",
       "      <th>292507</th>\n",
       "      <td>15843080</td>\n",
       "      <td>https://www.airbnb.com/rooms/15843080</td>\n",
       "      <td>20170502172350</td>\n",
       "      <td>2017-05-03</td>\n",
       "      <td>Private Koreatown Master Bedroom</td>\n",
       "      <td>Welcome Home! Our spacious room is well lit wi...</td>\n",
       "      <td>The furniture is brand new and thoughtfully pl...</td>\n",
       "      <td>Welcome Home! Our spacious room is well lit wi...</td>\n",
       "      <td>none</td>\n",
       "      <td>NaN</td>\n",
       "      <td>NaN</td>\n",
       "      <td>Public transit is 3 blocks away if you want to...</td>\n",
       "      <td>NaN</td>\n",
       "      <td>There are a lot of good restaurants around the...</td>\n",
       "      <td>We hope you are a dog lover. We have two large...</td>\n",
       "      <td>NaN</td>\n",
       "      <td>NaN</td>\n",
       "      <td>https://public.opendatasoft.com/api/explore/v2...</td>\n",
       "      <td>NaN</td>\n",
       "      <td>25208150</td>\n",
       "      <td>https://www.airbnb.com/users/show/25208150</td>\n",
       "      <td>Sharlette</td>\n",
       "      <td>2014-12-26</td>\n",
       "      <td>Los Angeles, California, United States</td>\n",
       "      <td>As your host, I hope you feel at home. I welco...</td>\n",
       "      <td>within an hour</td>\n",
       "      <td>100.0</td>\n",
       "      <td>NaN</td>\n",
       "      <td>https://a0.muscache.com/im/users/25208150/prof...</td>\n",
       "      <td>https://a0.muscache.com/im/users/25208150/prof...</td>\n",
       "      <td>Mid-Wilshire</td>\n",
       "      <td>2.0</td>\n",
       "      <td>2.0</td>\n",
       "      <td>email,phone,google,reviews,kba</td>\n",
       "      <td>Mid-Wilshire, Los Angeles, CA 90006, United St...</td>\n",
       "      <td>Mid-Wilshire</td>\n",
       "      <td>Koreatown</td>\n",
       "      <td>NaN</td>\n",
       "      <td>Los Angeles</td>\n",
       "      <td>CA</td>\n",
       "      <td>90006</td>\n",
       "      <td>Los Angeles</td>\n",
       "      <td>Los Angeles, CA</td>\n",
       "      <td>US</td>\n",
       "      <td>United States</td>\n",
       "      <td>34.054438</td>\n",
       "      <td>-118.297751</td>\n",
       "      <td>Apartment</td>\n",
       "      <td>Private room</td>\n",
       "      <td>2.0</td>\n",
       "      <td>1.0</td>\n",
       "      <td>1.0</td>\n",
       "      <td>1.0</td>\n",
       "      <td>Real Bed</td>\n",
       "      <td>TV,Internet,Wireless Internet,Air conditioning...</td>\n",
       "      <td>NaN</td>\n",
       "      <td>75.0</td>\n",
       "      <td>NaN</td>\n",
       "      <td>NaN</td>\n",
       "      <td>100.0</td>\n",
       "      <td>35.0</td>\n",
       "      <td>1.0</td>\n",
       "      <td>20.0</td>\n",
       "      <td>2.0</td>\n",
       "      <td>1125.0</td>\n",
       "      <td>5 days ago</td>\n",
       "      <td>NaN</td>\n",
       "      <td>22.0</td>\n",
       "      <td>52.0</td>\n",
       "      <td>82.0</td>\n",
       "      <td>82.0</td>\n",
       "      <td>2017-05-03</td>\n",
       "      <td>3.0</td>\n",
       "      <td>2016-11-14</td>\n",
       "      <td>2016-12-31</td>\n",
       "      <td>100.0</td>\n",
       "      <td>9.0</td>\n",
       "      <td>10.0</td>\n",
       "      <td>10.0</td>\n",
       "      <td>10.0</td>\n",
       "      <td>9.0</td>\n",
       "      <td>10.0</td>\n",
       "      <td>NaN</td>\n",
       "      <td>City of Los Angeles, CA</td>\n",
       "      <td>strict</td>\n",
       "      <td>2.0</td>\n",
       "      <td>0.53</td>\n",
       "      <td>34.0544381604634, -118.2977510163419</td>\n",
       "      <td>Host Is Superhost,Host Has Profile Pic,Host Id...</td>\n",
       "    </tr>\n",
       "    <tr>\n",
       "      <th>35265</th>\n",
       "      <td>14540198</td>\n",
       "      <td>https://www.airbnb.com/rooms/14540198</td>\n",
       "      <td>20170304065726</td>\n",
       "      <td>2017-03-05</td>\n",
       "      <td>Nottinghill, high ceilings and big windows</td>\n",
       "      <td>If you want a quintessential 'notting hill' ex...</td>\n",
       "      <td>Think 'Quirky, Homely, Art Gallery, idosyncrat...</td>\n",
       "      <td>If you want a quintessential 'notting hill' ex...</td>\n",
       "      <td>none</td>\n",
       "      <td>I've done a bespoke guide for all my guests</td>\n",
       "      <td>No discounts</td>\n",
       "      <td>Easy transport Bus stop one min away I use not...</td>\n",
       "      <td>you get access to it all!</td>\n",
       "      <td>A friend of mine will be available to meet you...</td>\n",
       "      <td>NaN</td>\n",
       "      <td>NaN</td>\n",
       "      <td>NaN</td>\n",
       "      <td>https://public.opendatasoft.com/api/explore/v2...</td>\n",
       "      <td>NaN</td>\n",
       "      <td>11799093</td>\n",
       "      <td>https://www.airbnb.com/users/show/11799093</td>\n",
       "      <td>Anna</td>\n",
       "      <td>2014-01-30</td>\n",
       "      <td>GB</td>\n",
       "      <td>NaN</td>\n",
       "      <td>within a day</td>\n",
       "      <td>80.0</td>\n",
       "      <td>NaN</td>\n",
       "      <td>https://a0.muscache.com/im/users/11799093/prof...</td>\n",
       "      <td>https://a0.muscache.com/im/users/11799093/prof...</td>\n",
       "      <td>Notting Hill</td>\n",
       "      <td>1.0</td>\n",
       "      <td>1.0</td>\n",
       "      <td>email,phone,reviews,jumio</td>\n",
       "      <td>Elgin Crescent, London, England W11 2JU, Unite...</td>\n",
       "      <td>Notting Hill</td>\n",
       "      <td>Kensington and Chelsea</td>\n",
       "      <td>NaN</td>\n",
       "      <td>London</td>\n",
       "      <td>England</td>\n",
       "      <td>W11 2JU</td>\n",
       "      <td>London</td>\n",
       "      <td>London, United Kingdom</td>\n",
       "      <td>GB</td>\n",
       "      <td>United Kingdom</td>\n",
       "      <td>51.513750</td>\n",
       "      <td>-0.207703</td>\n",
       "      <td>Apartment</td>\n",
       "      <td>Entire home/apt</td>\n",
       "      <td>5.0</td>\n",
       "      <td>1.0</td>\n",
       "      <td>1.0</td>\n",
       "      <td>1.0</td>\n",
       "      <td>Real Bed</td>\n",
       "      <td>TV,Internet,Wireless Internet,Kitchen,Breakfas...</td>\n",
       "      <td>NaN</td>\n",
       "      <td>175.0</td>\n",
       "      <td>NaN</td>\n",
       "      <td>NaN</td>\n",
       "      <td>250.0</td>\n",
       "      <td>63.0</td>\n",
       "      <td>1.0</td>\n",
       "      <td>30.0</td>\n",
       "      <td>2.0</td>\n",
       "      <td>1125.0</td>\n",
       "      <td>2 months ago</td>\n",
       "      <td>NaN</td>\n",
       "      <td>29.0</td>\n",
       "      <td>57.0</td>\n",
       "      <td>83.0</td>\n",
       "      <td>338.0</td>\n",
       "      <td>2017-03-05</td>\n",
       "      <td>5.0</td>\n",
       "      <td>2016-09-23</td>\n",
       "      <td>2016-11-23</td>\n",
       "      <td>100.0</td>\n",
       "      <td>10.0</td>\n",
       "      <td>10.0</td>\n",
       "      <td>10.0</td>\n",
       "      <td>10.0</td>\n",
       "      <td>10.0</td>\n",
       "      <td>10.0</td>\n",
       "      <td>NaN</td>\n",
       "      <td>NaN</td>\n",
       "      <td>strict</td>\n",
       "      <td>1.0</td>\n",
       "      <td>0.91</td>\n",
       "      <td>51.51375018089924, -0.20770325475419465</td>\n",
       "      <td>Host Is Superhost,Host Has Profile Pic,Host Id...</td>\n",
       "    </tr>\n",
       "    <tr>\n",
       "      <th>81906</th>\n",
       "      <td>9881149</td>\n",
       "      <td>https://www.airbnb.com/rooms/9881149</td>\n",
       "      <td>20170218121908</td>\n",
       "      <td>2017-02-18</td>\n",
       "      <td>Overlooking Jameson Distillery</td>\n",
       "      <td>A beautiful loft apartment with a balcony over...</td>\n",
       "      <td>NaN</td>\n",
       "      <td>A beautiful loft apartment with a balcony over...</td>\n",
       "      <td>none</td>\n",
       "      <td>NaN</td>\n",
       "      <td>NaN</td>\n",
       "      <td>NaN</td>\n",
       "      <td>NaN</td>\n",
       "      <td>NaN</td>\n",
       "      <td>NaN</td>\n",
       "      <td>https://a0.muscache.com/im/pictures/5c1bd0bd-3...</td>\n",
       "      <td>https://a0.muscache.com/im/pictures/5c1bd0bd-3...</td>\n",
       "      <td>https://public.opendatasoft.com/api/explore/v2...</td>\n",
       "      <td>https://a0.muscache.com/im/pictures/5c1bd0bd-3...</td>\n",
       "      <td>16296283</td>\n",
       "      <td>https://www.airbnb.com/users/show/16296283</td>\n",
       "      <td>Sam</td>\n",
       "      <td>2014-06-02</td>\n",
       "      <td>Pennsylvania, United States</td>\n",
       "      <td>I am a 23 year old American student. I love fi...</td>\n",
       "      <td>NaN</td>\n",
       "      <td>NaN</td>\n",
       "      <td>NaN</td>\n",
       "      <td>https://a0.muscache.com/im/pictures/1b00d661-4...</td>\n",
       "      <td>https://a0.muscache.com/im/pictures/1b00d661-4...</td>\n",
       "      <td>NaN</td>\n",
       "      <td>1.0</td>\n",
       "      <td>1.0</td>\n",
       "      <td>email,phone,reviews,jumio,government_id</td>\n",
       "      <td>Bow Street, Dublin, Dublin, Ireland</td>\n",
       "      <td>NaN</td>\n",
       "      <td>Dublin City</td>\n",
       "      <td>NaN</td>\n",
       "      <td>Dublin</td>\n",
       "      <td>Dublin</td>\n",
       "      <td>NaN</td>\n",
       "      <td>Dublin</td>\n",
       "      <td>Dublin, Ireland</td>\n",
       "      <td>IE</td>\n",
       "      <td>Ireland</td>\n",
       "      <td>53.349650</td>\n",
       "      <td>-6.277691</td>\n",
       "      <td>Loft</td>\n",
       "      <td>Private room</td>\n",
       "      <td>2.0</td>\n",
       "      <td>1.0</td>\n",
       "      <td>1.0</td>\n",
       "      <td>1.0</td>\n",
       "      <td>Real Bed</td>\n",
       "      <td>Internet,Wireless Internet,Air conditioning,Sm...</td>\n",
       "      <td>NaN</td>\n",
       "      <td>56.0</td>\n",
       "      <td>NaN</td>\n",
       "      <td>NaN</td>\n",
       "      <td>NaN</td>\n",
       "      <td>NaN</td>\n",
       "      <td>1.0</td>\n",
       "      <td>0.0</td>\n",
       "      <td>1.0</td>\n",
       "      <td>3.0</td>\n",
       "      <td>6 months ago</td>\n",
       "      <td>NaN</td>\n",
       "      <td>0.0</td>\n",
       "      <td>0.0</td>\n",
       "      <td>0.0</td>\n",
       "      <td>0.0</td>\n",
       "      <td>2017-02-18</td>\n",
       "      <td>24.0</td>\n",
       "      <td>2015-12-22</td>\n",
       "      <td>2016-07-19</td>\n",
       "      <td>93.0</td>\n",
       "      <td>9.0</td>\n",
       "      <td>9.0</td>\n",
       "      <td>9.0</td>\n",
       "      <td>10.0</td>\n",
       "      <td>10.0</td>\n",
       "      <td>8.0</td>\n",
       "      <td>NaN</td>\n",
       "      <td>NaN</td>\n",
       "      <td>flexible</td>\n",
       "      <td>1.0</td>\n",
       "      <td>1.69</td>\n",
       "      <td>53.34964996125459, -6.277691028289764</td>\n",
       "      <td>Host Has Profile Pic,Host Identity Verified,In...</td>\n",
       "    </tr>\n",
       "  </tbody>\n",
       "</table>\n",
       "</div>"
      ],
      "text/plain": [
       "              ID                            Listing Url       Scrape ID  \\\n",
       "54263    6105366   https://www.airbnb.com/rooms/6105366  20170602102612   \n",
       "382178  16265358  https://www.airbnb.com/rooms/16265358  20170304065726   \n",
       "292507  15843080  https://www.airbnb.com/rooms/15843080  20170502172350   \n",
       "35265   14540198  https://www.airbnb.com/rooms/14540198  20170304065726   \n",
       "81906    9881149   https://www.airbnb.com/rooms/9881149  20170218121908   \n",
       "\n",
       "       Last Scraped                                              Name  \\\n",
       "54263    2017-06-02    Bayou St. John Garden Apt - Jazz Fest 2 blocks   \n",
       "382178   2017-03-05  Studio Flat Clerkenwell Farringdon Holborn (303)   \n",
       "292507   2017-05-03                  Private Koreatown Master Bedroom   \n",
       "35265    2017-03-05        Nottinghill, high ceilings and big windows   \n",
       "81906    2017-02-18                    Overlooking Jameson Distillery   \n",
       "\n",
       "                                                  Summary  \\\n",
       "54263   Garden apartment in a lovely walkable neighbor...   \n",
       "382178  My place is good for solo adventurers, and bus...   \n",
       "292507  Welcome Home! Our spacious room is well lit wi...   \n",
       "35265   If you want a quintessential 'notting hill' ex...   \n",
       "81906   A beautiful loft apartment with a balcony over...   \n",
       "\n",
       "                                                    Space  \\\n",
       "54263   An apartment in a beautiful private home in th...   \n",
       "382178  The apartment is a self-contained single room ...   \n",
       "292507  The furniture is brand new and thoughtfully pl...   \n",
       "35265   Think 'Quirky, Homely, Art Gallery, idosyncrat...   \n",
       "81906                                                 NaN   \n",
       "\n",
       "                                              Description Experiences Offered  \\\n",
       "54263   Garden apartment in a lovely walkable neighbor...                none   \n",
       "382178  My place is good for solo adventurers, and bus...                none   \n",
       "292507  Welcome Home! Our spacious room is well lit wi...                none   \n",
       "35265   If you want a quintessential 'notting hill' ex...                none   \n",
       "81906   A beautiful loft apartment with a balcony over...                none   \n",
       "\n",
       "                                    Neighborhood Overview         Notes  \\\n",
       "54263   According to Fodors: \"With its tree-lined stre...           NaN   \n",
       "382178  Perfect central London location - Sainsbury’s ...           NaN   \n",
       "292507                                                NaN           NaN   \n",
       "35265         I've done a bespoke guide for all my guests  No discounts   \n",
       "81906                                                 NaN           NaN   \n",
       "\n",
       "                                                  Transit  \\\n",
       "54263   On a major bus line that runs to the French Qu...   \n",
       "382178  Very convenient transport links! Closest Tube ...   \n",
       "292507  Public transit is 3 blocks away if you want to...   \n",
       "35265   Easy transport Bus stop one min away I use not...   \n",
       "81906                                                 NaN   \n",
       "\n",
       "                                                   Access  \\\n",
       "54263   Guests will have access to apartment and entra...   \n",
       "382178  You will have full access to the common room, ...   \n",
       "292507                                                NaN   \n",
       "35265                           you get access to it all!   \n",
       "81906                                                 NaN   \n",
       "\n",
       "                                              Interaction  \\\n",
       "54263   Guests are greeted by the local host, who will...   \n",
       "382178  I will be able to offer help 24/7 with any req...   \n",
       "292507  There are a lot of good restaurants around the...   \n",
       "35265   A friend of mine will be available to meet you...   \n",
       "81906                                                 NaN   \n",
       "\n",
       "                                              House Rules  \\\n",
       "54263   1. We ask guests to be respectful of the fully...   \n",
       "382178                                                NaN   \n",
       "292507  We hope you are a dog lover. We have two large...   \n",
       "35265                                                 NaN   \n",
       "81906                                                 NaN   \n",
       "\n",
       "                                            Thumbnail Url  \\\n",
       "54263   https://a0.muscache.com/im/pictures/83634086/c...   \n",
       "382178  https://a0.muscache.com/im/pictures/428a12f6-a...   \n",
       "292507                                                NaN   \n",
       "35265                                                 NaN   \n",
       "81906   https://a0.muscache.com/im/pictures/5c1bd0bd-3...   \n",
       "\n",
       "                                               Medium Url  \\\n",
       "54263   https://a0.muscache.com/im/pictures/83634086/c...   \n",
       "382178  https://a0.muscache.com/im/pictures/428a12f6-a...   \n",
       "292507                                                NaN   \n",
       "35265                                                 NaN   \n",
       "81906   https://a0.muscache.com/im/pictures/5c1bd0bd-3...   \n",
       "\n",
       "                                              Picture Url  \\\n",
       "54263   https://public.opendatasoft.com/api/explore/v2...   \n",
       "382178  https://public.opendatasoft.com/api/explore/v2...   \n",
       "292507  https://public.opendatasoft.com/api/explore/v2...   \n",
       "35265   https://public.opendatasoft.com/api/explore/v2...   \n",
       "81906   https://public.opendatasoft.com/api/explore/v2...   \n",
       "\n",
       "                                           XL Picture Url   Host ID  \\\n",
       "54263   https://a0.muscache.com/im/pictures/83634086/c...   4887507   \n",
       "382178  https://a0.muscache.com/im/pictures/428a12f6-a...  62368024   \n",
       "292507                                                NaN  25208150   \n",
       "35265                                                 NaN  11799093   \n",
       "81906   https://a0.muscache.com/im/pictures/5c1bd0bd-3...  16296283   \n",
       "\n",
       "                                          Host URL        Host Name  \\\n",
       "54263    https://www.airbnb.com/users/show/4887507  Roxanne And Tim   \n",
       "382178  https://www.airbnb.com/users/show/62368024             Saem   \n",
       "292507  https://www.airbnb.com/users/show/25208150        Sharlette   \n",
       "35265   https://www.airbnb.com/users/show/11799093             Anna   \n",
       "81906   https://www.airbnb.com/users/show/16296283              Sam   \n",
       "\n",
       "        Host Since                           Host Location  \\\n",
       "54263   2013-01-28   New Orleans, Louisiana, United States   \n",
       "382178  2016-03-10         London, England, United Kingdom   \n",
       "292507  2014-12-26  Los Angeles, California, United States   \n",
       "35265   2014-01-30                                      GB   \n",
       "81906   2014-06-02             Pennsylvania, United States   \n",
       "\n",
       "                                               Host About Host Response Time  \\\n",
       "54263   Originally from the Midwest, retired to New Or...       within a day   \n",
       "382178                                                NaN     within an hour   \n",
       "292507  As your host, I hope you feel at home. I welco...     within an hour   \n",
       "35265                                                 NaN       within a day   \n",
       "81906   I am a 23 year old American student. I love fi...                NaN   \n",
       "\n",
       "        Host Response Rate Host Acceptance Rate  \\\n",
       "54263                100.0                  NaN   \n",
       "382178                99.0                  NaN   \n",
       "292507               100.0                  NaN   \n",
       "35265                 80.0                  NaN   \n",
       "81906                  NaN                  NaN   \n",
       "\n",
       "                                       Host Thumbnail Url  \\\n",
       "54263   https://a0.muscache.com/im/users/4887507/profi...   \n",
       "382178  https://a0.muscache.com/im/pictures/75bfadc2-7...   \n",
       "292507  https://a0.muscache.com/im/users/25208150/prof...   \n",
       "35265   https://a0.muscache.com/im/users/11799093/prof...   \n",
       "81906   https://a0.muscache.com/im/pictures/1b00d661-4...   \n",
       "\n",
       "                                         Host Picture Url Host Neighbourhood  \\\n",
       "54263   https://a0.muscache.com/im/users/4887507/profi...     Bayou St. John   \n",
       "382178  https://a0.muscache.com/im/pictures/75bfadc2-7...        Clerkenwell   \n",
       "292507  https://a0.muscache.com/im/users/25208150/prof...       Mid-Wilshire   \n",
       "35265   https://a0.muscache.com/im/users/11799093/prof...       Notting Hill   \n",
       "81906   https://a0.muscache.com/im/pictures/1b00d661-4...                NaN   \n",
       "\n",
       "        Host Listings Count  Host Total Listings Count  \\\n",
       "54263                   2.0                        2.0   \n",
       "382178                 56.0                       56.0   \n",
       "292507                  2.0                        2.0   \n",
       "35265                   1.0                        1.0   \n",
       "81906                   1.0                        1.0   \n",
       "\n",
       "                             Host Verifications  \\\n",
       "54263                   email,phone,reviews,kba   \n",
       "382178  email,phone,reviews,jumio,government_id   \n",
       "292507           email,phone,google,reviews,kba   \n",
       "35265                 email,phone,reviews,jumio   \n",
       "81906   email,phone,reviews,jumio,government_id   \n",
       "\n",
       "                                                   Street   Neighbourhood  \\\n",
       "54263   Bayou St. John, New Orleans, LA 70119, United ...  Bayou St. John   \n",
       "382178  Herbal Hill, London, England EC1R, United Kingdom     Clerkenwell   \n",
       "292507  Mid-Wilshire, Los Angeles, CA 90006, United St...    Mid-Wilshire   \n",
       "35265   Elgin Crescent, London, England W11 2JU, Unite...    Notting Hill   \n",
       "81906                 Bow Street, Dublin, Dublin, Ireland             NaN   \n",
       "\n",
       "        Neighbourhood Cleansed Neighbourhood Group Cleansed         City  \\\n",
       "54263           Bayou St. John                          NaN  New Orleans   \n",
       "382178               Islington                          NaN       London   \n",
       "292507               Koreatown                          NaN  Los Angeles   \n",
       "35265   Kensington and Chelsea                          NaN       London   \n",
       "81906              Dublin City                          NaN       Dublin   \n",
       "\n",
       "          State  Zipcode       Market          Smart Location Country Code  \\\n",
       "54263        LA    70119  New Orleans         New Orleans, LA           US   \n",
       "382178  England     EC1R       London  London, United Kingdom           GB   \n",
       "292507       CA    90006  Los Angeles         Los Angeles, CA           US   \n",
       "35265   England  W11 2JU       London  London, United Kingdom           GB   \n",
       "81906    Dublin      NaN       Dublin         Dublin, Ireland           IE   \n",
       "\n",
       "               Country   Latitude   Longitude Property Type        Room Type  \\\n",
       "54263    United States  29.978460  -90.082995     Apartment  Entire home/apt   \n",
       "382178  United Kingdom  51.523568   -0.108069     Apartment  Entire home/apt   \n",
       "292507   United States  34.054438 -118.297751     Apartment     Private room   \n",
       "35265   United Kingdom  51.513750   -0.207703     Apartment  Entire home/apt   \n",
       "81906          Ireland  53.349650   -6.277691          Loft     Private room   \n",
       "\n",
       "        Accommodates  Bathrooms  Bedrooms  Beds  Bed Type  \\\n",
       "54263            4.0        1.0       1.0   2.0  Real Bed   \n",
       "382178           1.0        1.0       0.0   1.0  Real Bed   \n",
       "292507           2.0        1.0       1.0   1.0  Real Bed   \n",
       "35265            5.0        1.0       1.0   1.0  Real Bed   \n",
       "81906            2.0        1.0       1.0   1.0  Real Bed   \n",
       "\n",
       "                                                Amenities  Square Feet  Price  \\\n",
       "54263   Cable TV,Internet,Wireless Internet,Air condit...          NaN  140.0   \n",
       "382178  TV,Cable TV,Internet,Wireless Internet,Kitchen...          NaN   63.0   \n",
       "292507  TV,Internet,Wireless Internet,Air conditioning...          NaN   75.0   \n",
       "35265   TV,Internet,Wireless Internet,Kitchen,Breakfas...          NaN  175.0   \n",
       "81906   Internet,Wireless Internet,Air conditioning,Sm...          NaN   56.0   \n",
       "\n",
       "        Weekly Price  Monthly Price  Security Deposit  Cleaning Fee  \\\n",
       "54263            NaN            NaN             500.0          65.0   \n",
       "382178           NaN            NaN               NaN          10.0   \n",
       "292507           NaN            NaN             100.0          35.0   \n",
       "35265            NaN            NaN             250.0          63.0   \n",
       "81906            NaN            NaN               NaN           NaN   \n",
       "\n",
       "        Guests Included  Extra People  Minimum Nights  Maximum Nights  \\\n",
       "54263               2.0          25.0             2.0          1125.0   \n",
       "382178              1.0           0.0             1.0          1125.0   \n",
       "292507              1.0          20.0             2.0          1125.0   \n",
       "35265               1.0          30.0             2.0          1125.0   \n",
       "81906               1.0           0.0             1.0             3.0   \n",
       "\n",
       "       Calendar Updated Has Availability  Availability 30  Availability 60  \\\n",
       "54263       7 weeks ago              NaN             30.0             60.0   \n",
       "382178       a week ago              NaN              0.0              0.0   \n",
       "292507       5 days ago              NaN             22.0             52.0   \n",
       "35265      2 months ago              NaN             29.0             57.0   \n",
       "81906      6 months ago              NaN              0.0              0.0   \n",
       "\n",
       "        Availability 90  Availability 365 Calendar last Scraped  \\\n",
       "54263              90.0             365.0            2017-06-02   \n",
       "382178              0.0              40.0            2017-03-05   \n",
       "292507             82.0              82.0            2017-05-03   \n",
       "35265              83.0             338.0            2017-03-05   \n",
       "81906               0.0               0.0            2017-02-18   \n",
       "\n",
       "        Number of Reviews First Review Last Review  Review Scores Rating  \\\n",
       "54263                11.0   2015-10-07  2017-02-26                  98.0   \n",
       "382178                0.0          NaN         NaN                   NaN   \n",
       "292507                3.0   2016-11-14  2016-12-31                 100.0   \n",
       "35265                 5.0   2016-09-23  2016-11-23                 100.0   \n",
       "81906                24.0   2015-12-22  2016-07-19                  93.0   \n",
       "\n",
       "        Review Scores Accuracy  Review Scores Cleanliness  \\\n",
       "54263                     10.0                       10.0   \n",
       "382178                     NaN                        NaN   \n",
       "292507                     9.0                       10.0   \n",
       "35265                     10.0                       10.0   \n",
       "81906                      9.0                        9.0   \n",
       "\n",
       "        Review Scores Checkin  Review Scores Communication  \\\n",
       "54263                    10.0                         10.0   \n",
       "382178                    NaN                          NaN   \n",
       "292507                   10.0                         10.0   \n",
       "35265                    10.0                         10.0   \n",
       "81906                     9.0                         10.0   \n",
       "\n",
       "        Review Scores Location  Review Scores Value License  \\\n",
       "54263                     10.0                  9.0     NaN   \n",
       "382178                     NaN                  NaN     NaN   \n",
       "292507                     9.0                 10.0     NaN   \n",
       "35265                     10.0                 10.0     NaN   \n",
       "81906                     10.0                  8.0     NaN   \n",
       "\n",
       "                      Jurisdiction Names Cancellation Policy  \\\n",
       "54263   Louisiana State, New Orleans, LA              strict   \n",
       "382178                               NaN            flexible   \n",
       "292507           City of Los Angeles, CA              strict   \n",
       "35265                                NaN              strict   \n",
       "81906                                NaN            flexible   \n",
       "\n",
       "        Calculated host listings count  Reviews per Month  \\\n",
       "54263                              2.0               0.55   \n",
       "382178                            53.0                NaN   \n",
       "292507                             2.0               0.53   \n",
       "35265                              1.0               0.91   \n",
       "81906                              1.0               1.69   \n",
       "\n",
       "                                    Geolocation  \\\n",
       "54263     29.97846046336117, -90.08299533436112   \n",
       "382178  51.52356843048189, -0.10806882760753102   \n",
       "292507     34.0544381604634, -118.2977510163419   \n",
       "35265   51.51375018089924, -0.20770325475419465   \n",
       "81906     53.34964996125459, -6.277691028289764   \n",
       "\n",
       "                                                 Features  \n",
       "54263   Host Is Superhost,Host Has Profile Pic,Host Id...  \n",
       "382178  Host Has Profile Pic,Host Identity Verified,Is...  \n",
       "292507  Host Is Superhost,Host Has Profile Pic,Host Id...  \n",
       "35265   Host Is Superhost,Host Has Profile Pic,Host Id...  \n",
       "81906   Host Has Profile Pic,Host Identity Verified,In...  "
      ]
     },
     "execution_count": 205,
     "metadata": {},
     "output_type": "execute_result"
    }
   ],
   "source": [
    "dataset.sample(5)"
   ]
  },
  {
   "cell_type": "markdown",
   "metadata": {},
   "source": [
    "### 2.2 Variable Identification"
   ]
  },
  {
   "cell_type": "markdown",
   "metadata": {},
   "source": [
    "Let's have a quick look in our data. \n",
    "\n",
    "But what are our variables ?"
   ]
  },
  {
   "cell_type": "code",
   "execution_count": 206,
   "metadata": {},
   "outputs": [
    {
     "name": "stdout",
     "output_type": "stream",
     "text": [
      "Index(['ID', 'Listing Url', 'Scrape ID', 'Last Scraped', 'Name', 'Summary',\n",
      "       'Space', 'Description', 'Experiences Offered', 'Neighborhood Overview',\n",
      "       'Notes', 'Transit', 'Access', 'Interaction', 'House Rules',\n",
      "       'Thumbnail Url', 'Medium Url', 'Picture Url', 'XL Picture Url',\n",
      "       'Host ID', 'Host URL', 'Host Name', 'Host Since', 'Host Location',\n",
      "       'Host About', 'Host Response Time', 'Host Response Rate',\n",
      "       'Host Acceptance Rate', 'Host Thumbnail Url', 'Host Picture Url',\n",
      "       'Host Neighbourhood', 'Host Listings Count',\n",
      "       'Host Total Listings Count', 'Host Verifications', 'Street',\n",
      "       'Neighbourhood', 'Neighbourhood Cleansed',\n",
      "       'Neighbourhood Group Cleansed', 'City', 'State', 'Zipcode', 'Market',\n",
      "       'Smart Location', 'Country Code', 'Country', 'Latitude', 'Longitude',\n",
      "       'Property Type', 'Room Type', 'Accommodates', 'Bathrooms', 'Bedrooms',\n",
      "       'Beds', 'Bed Type', 'Amenities', 'Square Feet', 'Price', 'Weekly Price',\n",
      "       'Monthly Price', 'Security Deposit', 'Cleaning Fee', 'Guests Included',\n",
      "       'Extra People', 'Minimum Nights', 'Maximum Nights', 'Calendar Updated',\n",
      "       'Has Availability', 'Availability 30', 'Availability 60',\n",
      "       'Availability 90', 'Availability 365', 'Calendar last Scraped',\n",
      "       'Number of Reviews', 'First Review', 'Last Review',\n",
      "       'Review Scores Rating', 'Review Scores Accuracy',\n",
      "       'Review Scores Cleanliness', 'Review Scores Checkin',\n",
      "       'Review Scores Communication', 'Review Scores Location',\n",
      "       'Review Scores Value', 'License', 'Jurisdiction Names',\n",
      "       'Cancellation Policy', 'Calculated host listings count',\n",
      "       'Reviews per Month', 'Geolocation', 'Features'],\n",
      "      dtype='object')\n"
     ]
    }
   ],
   "source": [
    "print(dataset.columns)"
   ]
  },
  {
   "cell_type": "code",
   "execution_count": 207,
   "metadata": {},
   "outputs": [
    {
     "name": "stdout",
     "output_type": "stream",
     "text": [
      "89\n"
     ]
    }
   ],
   "source": [
    "print(len(dataset.columns))"
   ]
  },
  {
   "cell_type": "markdown",
   "metadata": {},
   "source": [
    "In this list, we can see the ID of the listing, we can use it as an index for our dataframe."
   ]
  },
  {
   "cell_type": "code",
   "execution_count": 208,
   "metadata": {},
   "outputs": [],
   "source": [
    "dataset.set_index('ID', inplace=True)"
   ]
  },
  {
   "cell_type": "markdown",
   "metadata": {},
   "source": [
    "We have a lot of feature, but are all these data useful for predicting our dependent variables?\n",
    "\n",
    "Certainly, the answer is obviously no. Which data is not useful to us and will therefore be removed later?\n",
    "- Scraping data, which provides no relevant information about the accommodation.\n",
    "- Various fields with URLs, which also do not contribute to our analysis.\n",
    "- Here, we will not be performing NLP, so all attributes containing long text (such as description) will be removed as well\n",
    "- Features irrelevant to our goal\n",
    "- Redondant informations"
   ]
  },
  {
   "cell_type": "markdown",
   "metadata": {},
   "source": [
    "We begin by removing features related to web scraping that are not directly associated with the dwelling. Scraping-related data may include information that does not significantly contribute to our analysis of the dwelling, and therefore, their presence could add noise rather than clarity to our dataset."
   ]
  },
  {
   "cell_type": "code",
   "execution_count": 209,
   "metadata": {},
   "outputs": [],
   "source": [
    "dataset.drop(['Scrape ID', 'Last Scraped', 'Calendar last Scraped'], axis=1, inplace=True)"
   ]
  },
  {
   "cell_type": "markdown",
   "metadata": {},
   "source": [
    "Next, let's remove features that are in the form of URLs, whether for images or links to other web pages."
   ]
  },
  {
   "cell_type": "code",
   "execution_count": 210,
   "metadata": {},
   "outputs": [],
   "source": [
    "dataset.drop(['Listing Url', 'Thumbnail Url', 'Medium Url', 'Picture Url', 'XL Picture Url', 'Host URL', 'Host Thumbnail Url', 'Host Picture Url'], axis=1, inplace=True)"
   ]
  },
  {
   "cell_type": "markdown",
   "metadata": {},
   "source": [
    "The decision to remove the following attributes was made to simplify our dataset. These attributes contain long and detailed textual information for which more advanced processing, such as Natural Language Processing (NLP), would be necessary.\n",
    "\n",
    "If our model does not perform optimally, it might be possible to leverage these attributes to add additional features to our dataset. However, since the messages do not follow a predefined structure, extracting specific information for one property may be feasible, but it does not guarantee finding the same information in the same field for another property. So, the data retrieved from these fields could lead to the creation of attributes with a significant amount of missing values.\n",
    "\n",
    "// TODO: Use 'House Rules' to extract information about smoking policy."
   ]
  },
  {
   "cell_type": "code",
   "execution_count": 211,
   "metadata": {},
   "outputs": [],
   "source": [
    "dataset.drop(['Name', 'Summary', 'Space', 'Description', 'Neighborhood Overview', 'Notes', 'Transit', 'Access', 'Interaction', 'House Rules'], axis=1, inplace=True)"
   ]
  },
  {
   "cell_type": "markdown",
   "metadata": {},
   "source": [
    "Then, I decided to remove attributes that I consider irrelevant to address our problem. These attributes are mainly categorical, and preserving them would have required specific encodings, resulting in the creation of a significant number of features and substantially increasing the dimensionality of our dataset, without providing meaningful information to predict our price values. Indeed, almost all these attributes have unique values.\n",
    "\n",
    "It's important to note that the ``Features`` attribute corresponds to a consolidation of several attributes related to the host that I have chosen to retain. Consequently, this attribute has become unnecessary."
   ]
  },
  {
   "cell_type": "code",
   "execution_count": 212,
   "metadata": {},
   "outputs": [],
   "source": [
    "dataset.drop(['Host ID', 'Host Name', 'Host About', 'Host Neighbourhood', 'Neighbourhood', 'Neighbourhood Cleansed', 'Neighbourhood Group Cleansed', 'First Review', 'Last Review', 'License', 'Jurisdiction Names', 'Features'], axis=1, inplace=True)"
   ]
  },
  {
   "cell_type": "markdown",
   "metadata": {},
   "source": [
    "I also decided to remove all information regarding the location of the dwelling, except for ``longitude`` and ``latitude``. Using these two coordinates, it is possible to retrieve all the information that I am going to drop just below, such as the country, etc.\n",
    "\n",
    "If I had kept this information, it would have created redundancy in the data. Because, we can find all the informations drop with only these two values. Additionally, it would have been necessary to encode this information using an One Hot Encoder, significantly increasing the dimensionality of our dataset. It is noteworthy that the ``Geolocation`` attribute is actually a combination of the ``Latitude`` and ``Longitude`` attributes.\n",
    "\n",
    "It is important to note that at this stage, I have not chosen to delete the ``City`` feature as it will be used later to calculate a new feature. However, it will be removed later on."
   ]
  },
  {
   "cell_type": "code",
   "execution_count": 213,
   "metadata": {},
   "outputs": [],
   "source": [
    "dataset.drop(['Street', 'State', 'Zipcode', 'Market', 'Smart Location', 'Country Code', 'Country', 'Geolocation'], axis= 1, inplace=True)"
   ]
  },
  {
   "cell_type": "markdown",
   "metadata": {},
   "source": [
    "It finally leaves us with the following attributes:"
   ]
  },
  {
   "cell_type": "code",
   "execution_count": 214,
   "metadata": {},
   "outputs": [
    {
     "name": "stdout",
     "output_type": "stream",
     "text": [
      "Index(['Experiences Offered', 'Host Since', 'Host Location',\n",
      "       'Host Response Time', 'Host Response Rate', 'Host Acceptance Rate',\n",
      "       'Host Listings Count', 'Host Total Listings Count',\n",
      "       'Host Verifications', 'City', 'Latitude', 'Longitude', 'Property Type',\n",
      "       'Room Type', 'Accommodates', 'Bathrooms', 'Bedrooms', 'Beds',\n",
      "       'Bed Type', 'Amenities', 'Square Feet', 'Price', 'Weekly Price',\n",
      "       'Monthly Price', 'Security Deposit', 'Cleaning Fee', 'Guests Included',\n",
      "       'Extra People', 'Minimum Nights', 'Maximum Nights', 'Calendar Updated',\n",
      "       'Has Availability', 'Availability 30', 'Availability 60',\n",
      "       'Availability 90', 'Availability 365', 'Number of Reviews',\n",
      "       'Review Scores Rating', 'Review Scores Accuracy',\n",
      "       'Review Scores Cleanliness', 'Review Scores Checkin',\n",
      "       'Review Scores Communication', 'Review Scores Location',\n",
      "       'Review Scores Value', 'Cancellation Policy',\n",
      "       'Calculated host listings count', 'Reviews per Month'],\n",
      "      dtype='object')\n"
     ]
    }
   ],
   "source": [
    "print(dataset.columns)"
   ]
  },
  {
   "cell_type": "markdown",
   "metadata": {},
   "source": [
    "We went from 89 features to 47."
   ]
  },
  {
   "cell_type": "code",
   "execution_count": 215,
   "metadata": {},
   "outputs": [
    {
     "data": {
      "text/plain": [
       "47"
      ]
     },
     "execution_count": 215,
     "metadata": {},
     "output_type": "execute_result"
    }
   ],
   "source": [
    "len(dataset.columns)"
   ]
  },
  {
   "cell_type": "markdown",
   "metadata": {},
   "source": [
    "Now that we've completed an initial quick cleaning, we can start by identifying which variables are dependent and independent among all the variables available.\n",
    "\n",
    "To address our problem, we aim to predict variables (dependant variables) :\n",
    "- ``Price`` \n",
    "- ``Weekly Price``  \n",
    "- ``Monthly Price`` \n",
    "\n",
    "All others correspond to the independant variables that can be used to predict our dependent variables."
   ]
  },
  {
   "cell_type": "code",
   "execution_count": 216,
   "metadata": {},
   "outputs": [],
   "source": [
    "dependant_variables = ['Price', 'Weekly Price', 'Monthly Price']\n",
    "independant_variables = [var for var in dataset.columns if var not in dependant_variables]"
   ]
  },
  {
   "cell_type": "code",
   "execution_count": 217,
   "metadata": {},
   "outputs": [
    {
     "name": "stdout",
     "output_type": "stream",
     "text": [
      "Dependant variables : ['Price', 'Weekly Price', 'Monthly Price']\n",
      "Independant variables : ['Experiences Offered', 'Host Since', 'Host Location', 'Host Response Time', 'Host Response Rate', 'Host Acceptance Rate', 'Host Listings Count', 'Host Total Listings Count', 'Host Verifications', 'City', 'Latitude', 'Longitude', 'Property Type', 'Room Type', 'Accommodates', 'Bathrooms', 'Bedrooms', 'Beds', 'Bed Type', 'Amenities', 'Square Feet', 'Security Deposit', 'Cleaning Fee', 'Guests Included', 'Extra People', 'Minimum Nights', 'Maximum Nights', 'Calendar Updated', 'Has Availability', 'Availability 30', 'Availability 60', 'Availability 90', 'Availability 365', 'Number of Reviews', 'Review Scores Rating', 'Review Scores Accuracy', 'Review Scores Cleanliness', 'Review Scores Checkin', 'Review Scores Communication', 'Review Scores Location', 'Review Scores Value', 'Cancellation Policy', 'Calculated host listings count', 'Reviews per Month']\n"
     ]
    }
   ],
   "source": [
    "print(f'Dependant variables : {dependant_variables}')\n",
    "print(f'Independant variables : {independant_variables}')"
   ]
  },
  {
   "cell_type": "markdown",
   "metadata": {},
   "source": [
    "So, we have 3 values to predict, and we will utilize 44 features for the prediction."
   ]
  },
  {
   "cell_type": "code",
   "execution_count": 218,
   "metadata": {},
   "outputs": [
    {
     "data": {
      "text/plain": [
       "3"
      ]
     },
     "execution_count": 218,
     "metadata": {},
     "output_type": "execute_result"
    }
   ],
   "source": [
    "len(dependant_variables)"
   ]
  },
  {
   "cell_type": "code",
   "execution_count": 219,
   "metadata": {},
   "outputs": [
    {
     "data": {
      "text/plain": [
       "44"
      ]
     },
     "execution_count": 219,
     "metadata": {},
     "output_type": "execute_result"
    }
   ],
   "source": [
    "len(independant_variables)"
   ]
  },
  {
   "cell_type": "markdown",
   "metadata": {},
   "source": [
    "Now, we can examine the types of variables, whether they are numerical, categorical, or if they have null values, to guide our preprocessing and analysis decisions."
   ]
  },
  {
   "cell_type": "code",
   "execution_count": 220,
   "metadata": {},
   "outputs": [
    {
     "name": "stdout",
     "output_type": "stream",
     "text": [
      "<class 'pandas.core.frame.DataFrame'>\n",
      "Index: 494954 entries, 6017649 to 10562264\n",
      "Data columns (total 47 columns):\n",
      " #   Column                          Non-Null Count   Dtype  \n",
      "---  ------                          --------------   -----  \n",
      " 0   Experiences Offered             494954 non-null  object \n",
      " 1   Host Since                      494449 non-null  object \n",
      " 2   Host Location                   492691 non-null  object \n",
      " 3   Host Response Time              379885 non-null  object \n",
      " 4   Host Response Rate              379884 non-null  float64\n",
      " 5   Host Acceptance Rate            42258 non-null   object \n",
      " 6   Host Listings Count             494449 non-null  float64\n",
      " 7   Host Total Listings Count       494448 non-null  float64\n",
      " 8   Host Verifications              494114 non-null  object \n",
      " 9   City                            494500 non-null  object \n",
      " 10  Latitude                        494953 non-null  float64\n",
      " 11  Longitude                       494953 non-null  float64\n",
      " 12  Property Type                   494943 non-null  object \n",
      " 13  Room Type                       494953 non-null  object \n",
      " 14  Accommodates                    494891 non-null  float64\n",
      " 15  Bathrooms                       493428 non-null  float64\n",
      " 16  Bedrooms                        494328 non-null  float64\n",
      " 17  Beds                            494037 non-null  float64\n",
      " 18  Bed Type                        494953 non-null  object \n",
      " 19  Amenities                       490466 non-null  object \n",
      " 20  Square Feet                     12209 non-null   float64\n",
      " 21  Price                           486996 non-null  float64\n",
      " 22  Weekly Price                    97747 non-null   float64\n",
      " 23  Monthly Price                   96091 non-null   float64\n",
      " 24  Security Deposit                204012 non-null  float64\n",
      " 25  Cleaning Fee                    315715 non-null  float64\n",
      " 26  Guests Included                 494952 non-null  float64\n",
      " 27  Extra People                    494917 non-null  float64\n",
      " 28  Minimum Nights                  494952 non-null  float64\n",
      " 29  Maximum Nights                  494952 non-null  float64\n",
      " 30  Calendar Updated                494953 non-null  object \n",
      " 31  Has Availability                9307 non-null    object \n",
      " 32  Availability 30                 494952 non-null  float64\n",
      " 33  Availability 60                 494952 non-null  float64\n",
      " 34  Availability 90                 494952 non-null  float64\n",
      " 35  Availability 365                494952 non-null  float64\n",
      " 36  Number of Reviews               494952 non-null  float64\n",
      " 37  Review Scores Rating            367134 non-null  float64\n",
      " 38  Review Scores Accuracy          366237 non-null  float64\n",
      " 39  Review Scores Cleanliness       366479 non-null  float64\n",
      " 40  Review Scores Checkin           365918 non-null  float64\n",
      " 41  Review Scores Communication     366434 non-null  float64\n",
      " 42  Review Scores Location          365969 non-null  float64\n",
      " 43  Review Scores Value             365873 non-null  float64\n",
      " 44  Cancellation Policy             494952 non-null  object \n",
      " 45  Calculated host listings count  494087 non-null  float64\n",
      " 46  Reviews per Month               372947 non-null  float64\n",
      "dtypes: float64(33), object(14)\n",
      "memory usage: 181.3+ MB\n"
     ]
    }
   ],
   "source": [
    "dataset.info()"
   ]
  },
  {
   "cell_type": "markdown",
   "metadata": {},
   "source": [
    "For each variable, we can seek to determine whether it is a numerical or categorical variable. This information is crucial in determining which pre-treatment and analysis methods are appropriate for each variable."
   ]
  },
  {
   "cell_type": "code",
   "execution_count": 221,
   "metadata": {},
   "outputs": [
    {
     "name": "stdout",
     "output_type": "stream",
     "text": [
      "Qualitative (categorical)\n",
      " -  Experiences Offered\n",
      " -  Host Since\n",
      " -  Host Location\n",
      " -  Host Response Time\n",
      " -  Host Acceptance Rate\n",
      " -  Host Verifications\n",
      " -  City\n",
      " -  Property Type\n",
      " -  Room Type\n",
      " -  Bed Type\n",
      " -  Amenities\n",
      " -  Calendar Updated\n",
      " -  Has Availability\n",
      " -  Cancellation Policy\n",
      "Quantitative (numerical)\n",
      " -  Host Response Rate\n",
      " -  Host Listings Count\n",
      " -  Host Total Listings Count\n",
      " -  Latitude\n",
      " -  Longitude\n",
      " -  Accommodates\n",
      " -  Bathrooms\n",
      " -  Bedrooms\n",
      " -  Beds\n",
      " -  Square Feet\n",
      " -  Price\n",
      " -  Weekly Price\n",
      " -  Monthly Price\n",
      " -  Security Deposit\n",
      " -  Cleaning Fee\n",
      " -  Guests Included\n",
      " -  Extra People\n",
      " -  Minimum Nights\n",
      " -  Maximum Nights\n",
      " -  Availability 30\n",
      " -  Availability 60\n",
      " -  Availability 90\n",
      " -  Availability 365\n",
      " -  Number of Reviews\n",
      " -  Review Scores Rating\n",
      " -  Review Scores Accuracy\n",
      " -  Review Scores Cleanliness\n",
      " -  Review Scores Checkin\n",
      " -  Review Scores Communication\n",
      " -  Review Scores Location\n",
      " -  Review Scores Value\n",
      " -  Calculated host listings count\n",
      " -  Reviews per Month\n"
     ]
    }
   ],
   "source": [
    "qualitative_columns = dataset.select_dtypes(include='object').columns\n",
    "quantitative_columns = dataset.select_dtypes(include='number').columns\n",
    "\n",
    "print(\"Qualitative (categorical)\")\n",
    "for feat in qualitative_columns:\n",
    "    print(' - ', feat)\n",
    "    \n",
    "print(\"Quantitative (numerical)\")\n",
    "for feat in quantitative_columns:\n",
    "    print(' - ', feat)"
   ]
  },
  {
   "cell_type": "markdown",
   "metadata": {},
   "source": [
    "Here, we observe several issues that we'll need to investigate to understand why certain fields, initially considered numerical, end up being categorical. Consequently, there are operations to be performed.\n",
    "\n",
    "For instance, the ``Host Acceptance Rate`` attribute should be numerical rather than categorical.\n",
    "\n",
    "Additionally, I would like to transform certain categorical attributes into numerical ones. This is particularly the case for:\n",
    "- ``Host Response Time``: I would like to represent it, for example, as a number of days or hours.\n",
    "- ``Host Since``: I aim to represent it also as a number of days.\n",
    "- ``Calendar Updated``: I would also like to represent it as a number of days.\n",
    "- ``Has Availability``: I want this to be a boolean attribute, taking the value True (1) if available and False (0) if not available.\n",
    "\n",
    "Thus, transforming these categorical attributes into numerical ones will reduce the number of features in our encoded dataset and consequently the dataset's dimensionality, enhancing computational efficiency. Numerical features are often more suitable for machine learning models, improving interpretability and generalization performance.\n",
    "\n",
    "So, it will be only necessary to encode the following attributes: \n",
    " -  ``Experiences Offered``\n",
    " -  ``Host Verifications``\n",
    " -  ``Property Type``\n",
    " -  ``Room Type``\n",
    " -  ``Bed Type``\n",
    " -  ``Amenities``\n",
    " -  ``Cancellation Policy``"
   ]
  },
  {
   "cell_type": "markdown",
   "metadata": {},
   "source": [
    "### 2.3 Remove duplicates\n",
    "Now that we have quickly sorted through the columns that may be useful, it's also important to consider whether there are redundant rows to be removed. Indeed, since these data were obtained through scraping, it's possible that the scraper collected multiple instances of the same data."
   ]
  },
  {
   "cell_type": "code",
   "execution_count": 222,
   "metadata": {},
   "outputs": [
    {
     "name": "stdout",
     "output_type": "stream",
     "text": [
      "Total number of duplicates : 2\n"
     ]
    }
   ],
   "source": [
    "number_duplicated = dataset.duplicated().sum()\n",
    "print(\"Total number of duplicates :\", number_duplicated)"
   ]
  },
  {
   "cell_type": "markdown",
   "metadata": {},
   "source": [
    "Here, we have two duplicate rows, so we no need to delete some duplicate rows."
   ]
  },
  {
   "cell_type": "code",
   "execution_count": 223,
   "metadata": {},
   "outputs": [],
   "source": [
    "dataset.drop_duplicates(inplace=True)"
   ]
  },
  {
   "cell_type": "markdown",
   "metadata": {},
   "source": [
    "### 2.4 Remove values errors"
   ]
  },
  {
   "cell_type": "markdown",
   "metadata": {},
   "source": [
    "### 2.5 Outliers Treatment"
   ]
  },
  {
   "cell_type": "markdown",
   "metadata": {},
   "source": [
    "### 2.6 Handle Missing Values"
   ]
  },
  {
   "cell_type": "markdown",
   "metadata": {},
   "source": [
    "### 2.7 Drop Unnecessary Columns"
   ]
  },
  {
   "cell_type": "markdown",
   "metadata": {},
   "source": [
    "## 3. Exploratory Data Analysis"
   ]
  },
  {
   "cell_type": "markdown",
   "metadata": {},
   "source": [
    "### 3.1 Univariate Analysis"
   ]
  },
  {
   "cell_type": "markdown",
   "metadata": {},
   "source": [
    "### 3.2 Bivariate Analysis\n",
    "#### 3.2.1 Numerical-Numerical Variable"
   ]
  },
  {
   "cell_type": "markdown",
   "metadata": {},
   "source": [
    "#### 3.2.2 Categorical-Numerical Variable"
   ]
  },
  {
   "cell_type": "markdown",
   "metadata": {},
   "source": [
    "## 4. Data Preprocessing\n",
    "### 4.1 Transformation of Distributions"
   ]
  },
  {
   "cell_type": "markdown",
   "metadata": {},
   "source": [
    "### 4.2 Feature Engineering\n",
    "#### 4.2.1 Creating New Features"
   ]
  },
  {
   "cell_type": "code",
   "execution_count": 224,
   "metadata": {},
   "outputs": [],
   "source": [
    "dataset.drop(['Host Location'], axis=1, inplace=True)\n",
    "dataset.drop(['City'], axis=1, inplace=True)"
   ]
  },
  {
   "cell_type": "markdown",
   "metadata": {},
   "source": [
    "#### 4.2.2 Feature Scaling"
   ]
  },
  {
   "cell_type": "markdown",
   "metadata": {},
   "source": [
    "#### 4.2.3 Encoding Categorical Variables\n",
    "##### 4.2.3.1 Label Encoding"
   ]
  },
  {
   "cell_type": "markdown",
   "metadata": {},
   "source": [
    "##### 4.2.3.2 One Hot Encoding"
   ]
  },
  {
   "cell_type": "markdown",
   "metadata": {},
   "source": [
    "### 4.3 Data Splitting (Train-Test-Validation)"
   ]
  },
  {
   "cell_type": "markdown",
   "metadata": {},
   "source": [
    "## 5. The model\n",
    "### 5.1 Model Building"
   ]
  },
  {
   "cell_type": "markdown",
   "metadata": {},
   "source": [
    "### 5.2 Model Training"
   ]
  },
  {
   "cell_type": "markdown",
   "metadata": {},
   "source": [
    "### 5.3 Model Evaluation\n",
    "#### 5.3.1 K-Fold Cross Validation"
   ]
  },
  {
   "cell_type": "markdown",
   "metadata": {},
   "source": [
    "#### 5.3.2 Hyperparameter Tunning"
   ]
  },
  {
   "cell_type": "markdown",
   "metadata": {},
   "source": [
    "#### 5.3.3 Re-train with optimal hyperparameters for predictions"
   ]
  },
  {
   "cell_type": "markdown",
   "metadata": {},
   "source": [
    "#### 5.3.4 Feature Importance"
   ]
  },
  {
   "cell_type": "markdown",
   "metadata": {},
   "source": [
    "#### 5.3.5 Learning Curves"
   ]
  },
  {
   "cell_type": "markdown",
   "metadata": {},
   "source": [
    "### 5.4 Test the model on Test Set"
   ]
  },
  {
   "cell_type": "markdown",
   "metadata": {},
   "source": [
    "## 6. Conclusion\n",
    "### 6.1 Results of the project / Validating hypothesis\n",
    "...\n",
    "### 6.2 Improvements\n",
    "...\n",
    "### 6.3 Conclusion on the project / course\n",
    "..."
   ]
  }
 ],
 "metadata": {
  "kernelspec": {
   "display_name": ".venv",
   "language": "python",
   "name": "python3"
  },
  "language_info": {
   "codemirror_mode": {
    "name": "ipython",
    "version": 3
   },
   "file_extension": ".py",
   "mimetype": "text/x-python",
   "name": "python",
   "nbconvert_exporter": "python",
   "pygments_lexer": "ipython3",
   "version": "3.11.5"
  }
 },
 "nbformat": 4,
 "nbformat_minor": 2
}
