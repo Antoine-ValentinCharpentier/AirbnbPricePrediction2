{
 "cells": [
  {
   "cell_type": "markdown",
   "metadata": {},
   "source": [
    "# AirbnbPricePrediction\n",
    "\n",
    "## Table of Contents\n",
    "1. Project Preparation\n",
    "   - 1.1 Defining the problem and project goals.\n",
    "   - 1.2 Hypothesis\n",
    "\n",
    "2. Data Cleaning\n",
    "   - 2.1 Imports\n",
    "      - 2.1.1 Import libraries\n",
    "      - 2.1.2 Import dataset\n",
    "   - 2.2 Variable Identification\n",
    "   - 2.3 Remove duplicates\n",
    "   - 2.4 Remove values errors\n",
    "   - 2.5 Outliers Treatment\n",
    "   - 2.6 Handle Missing Values\n",
    "   - 2.7 Drop Unnecessary Columns\n",
    "\n",
    "3. Exploratory Data Analysis\n",
    "   - 3.1 Initial Exploration\n",
    "   - 3.2 Univariate Analysis\n",
    "   - 3.3 Bivariate Analysis\n",
    "      - 3.3.1 Numerical-Numerical Variable\n",
    "      - 3.3.2 Categorical-Numerical Variable\n",
    "\n",
    "4. Data Preprocessing\n",
    "   - 4.1 Transformation of Distributions\n",
    "   - 4.2 Feature Engineering\n",
    "      - 4.2.1 Creating New Features\n",
    "      - 4.2.2 Feature Scaling\n",
    "      - 4.2.3 Encoding Categorical Variables\n",
    "         - 4.2.3.1 Label Encoding\n",
    "         - 4.2.3.2 One Hot Encoding\n",
    "   - 4.3 Data Splitting (Train-Test-Validation)\n",
    "\n",
    "5. The model\n",
    "   - 5.1 Model Building\n",
    "   - 5.2 Model Training\n",
    "   - 5.3 Model Evaluation\n",
    "      - 5.3.1 K-Fold Cross Validation\n",
    "      - 5.3.2 Hyperparameter Tunning\n",
    "      - 5.3.3 Re-train with optimal hyperparameters for predictions\n",
    "      - 5.3.4 Feature Importance\n",
    "      - 5.3.5 Learning Curves\n",
    "   - 5.4 Test the model on Test Set\n",
    "\n",
    "6. Conclusion\n",
    "   - 6.1 Results of the project / Validating hypothesis\n",
    "   - 6.2 Improvements\n",
    "   - 6.3 Conclusion on the project / course\n",
    "\n",
    "## 1. Project Preparation\n",
    "...\n",
    "### 1.1 Defining the problem and project goals\n",
    "...\n",
    "### 1.2 Hypothesis\n",
    "...\n",
    "\n",
    "\n",
    "## 2. Data Cleaning\n",
    "...\n",
    "### 2.1 Imports\n",
    "#### 2.1.1 Import libraries"
   ]
  },
  {
   "cell_type": "markdown",
   "metadata": {},
   "source": [
    "#### 2.1.2 Import dataset"
   ]
  },
  {
   "cell_type": "markdown",
   "metadata": {},
   "source": [
    "### 2.2 Variable Identification"
   ]
  },
  {
   "cell_type": "markdown",
   "metadata": {},
   "source": [
    "### 2.3 Remove duplicates"
   ]
  },
  {
   "cell_type": "markdown",
   "metadata": {},
   "source": [
    "### 2.4 Remove values errors"
   ]
  },
  {
   "cell_type": "markdown",
   "metadata": {},
   "source": [
    "### 2.5 Outliers Treatment"
   ]
  },
  {
   "cell_type": "markdown",
   "metadata": {},
   "source": [
    "### 2.6 Handle Missing Values"
   ]
  },
  {
   "cell_type": "markdown",
   "metadata": {},
   "source": [
    "### 2.7 Drop Unnecessary Columns"
   ]
  },
  {
   "cell_type": "markdown",
   "metadata": {},
   "source": [
    "## 3. Exploratory Data Analysis\n",
    "### 3.1 Initial Exploration"
   ]
  },
  {
   "cell_type": "markdown",
   "metadata": {},
   "source": [
    "### 3.2 Univariate Analysis"
   ]
  },
  {
   "cell_type": "markdown",
   "metadata": {},
   "source": [
    "### 3.3 Bivariate Analysis\n",
    "#### 3.3.1 Numerical-Numerical Variable"
   ]
  },
  {
   "cell_type": "markdown",
   "metadata": {},
   "source": [
    "#### 3.3.2 Categorical-Numerical Variable"
   ]
  },
  {
   "cell_type": "markdown",
   "metadata": {},
   "source": [
    "## 4. Data Preprocessing\n",
    "### 4.1 Transformation of Distributions"
   ]
  },
  {
   "cell_type": "markdown",
   "metadata": {},
   "source": [
    "### 4.2 Feature Engineering\n",
    "#### 4.2.1 Creating New Features"
   ]
  },
  {
   "cell_type": "markdown",
   "metadata": {},
   "source": [
    "#### 4.2.2 Feature Scaling"
   ]
  },
  {
   "cell_type": "markdown",
   "metadata": {},
   "source": [
    "#### 4.2.3 Encoding Categorical Variables\n",
    "##### 4.2.3.1 Label Encoding"
   ]
  },
  {
   "cell_type": "markdown",
   "metadata": {},
   "source": [
    "##### 4.2.3.2 One Hot Encoding"
   ]
  },
  {
   "cell_type": "markdown",
   "metadata": {},
   "source": [
    "### 4.3 Data Splitting (Train-Test-Validation)"
   ]
  },
  {
   "cell_type": "markdown",
   "metadata": {},
   "source": [
    "## 5. The model\n",
    "### 5.1 Model Building"
   ]
  },
  {
   "cell_type": "markdown",
   "metadata": {},
   "source": [
    "### 5.2 Model Training"
   ]
  },
  {
   "cell_type": "markdown",
   "metadata": {},
   "source": [
    "### 5.3 Model Evaluation\n",
    "#### 5.3.1 K-Fold Cross Validation"
   ]
  },
  {
   "cell_type": "markdown",
   "metadata": {},
   "source": [
    "#### 5.3.2 Hyperparameter Tunning"
   ]
  },
  {
   "cell_type": "markdown",
   "metadata": {},
   "source": [
    "#### 5.3.3 Re-train with optimal hyperparameters for predictions"
   ]
  },
  {
   "cell_type": "markdown",
   "metadata": {},
   "source": [
    "#### 5.3.4 Feature Importance"
   ]
  },
  {
   "cell_type": "markdown",
   "metadata": {},
   "source": [
    "#### 5.3.5 Learning Curves"
   ]
  },
  {
   "cell_type": "markdown",
   "metadata": {},
   "source": [
    "### 5.4 Test the model on Test Set"
   ]
  },
  {
   "cell_type": "markdown",
   "metadata": {},
   "source": [
    "## 6. Conclusion\n",
    "### 6.1 Results of the project / Validating hypothesis\n",
    "...\n",
    "### 6.2 Improvements\n",
    "...\n",
    "### 6.3 Conclusion on the project / course\n",
    "..."
   ]
  }
 ],
 "metadata": {
  "kernelspec": {
   "display_name": ".venv",
   "language": "python",
   "name": "python3"
  },
  "language_info": {
   "codemirror_mode": {
    "name": "ipython",
    "version": 3
   },
   "file_extension": ".py",
   "mimetype": "text/x-python",
   "name": "python",
   "nbconvert_exporter": "python",
   "pygments_lexer": "ipython3",
   "version": "3.11.5"
  }
 },
 "nbformat": 4,
 "nbformat_minor": 2
}
